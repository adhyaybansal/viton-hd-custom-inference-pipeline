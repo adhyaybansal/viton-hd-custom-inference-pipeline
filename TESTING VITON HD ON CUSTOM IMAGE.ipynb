{
  "nbformat": 4,
  "nbformat_minor": 0,
  "metadata": {
    "colab": {
      "provenance": [],
      "gpuType": "T4"
    },
    "kernelspec": {
      "name": "python3",
      "display_name": "Python 3"
    },
    "language_info": {
      "name": "python"
    },
    "accelerator": "GPU"
  },
  "cells": [
    {
      "cell_type": "code",
      "execution_count": 1,
      "metadata": {
        "colab": {
          "base_uri": "https://localhost:8080/"
        },
        "id": "WlbVQfwRKOc8",
        "outputId": "d9757167-1761-43f6-a13f-9a347a7a23d1"
      },
      "outputs": [
        {
          "output_type": "stream",
          "name": "stdout",
          "text": [
            "Cloning into 'VITON-HD'...\n",
            "remote: Enumerating objects: 52, done.\u001b[K\n",
            "remote: Counting objects: 100% (19/19), done.\u001b[K\n",
            "remote: Compressing objects: 100% (12/12), done.\u001b[K\n",
            "remote: Total 52 (delta 12), reused 7 (delta 7), pack-reused 33 (from 3)\u001b[K\n",
            "Receiving objects: 100% (52/52), 5.03 MiB | 8.91 MiB/s, done.\n",
            "Resolving deltas: 100% (20/20), done.\n",
            "/content/VITON-HD\n"
          ]
        }
      ],
      "source": [
        "!git clone https://github.com/shadow2496/VITON-HD.git\n",
        "%cd VITON-HD"
      ]
    },
    {
      "cell_type": "code",
      "source": [
        "!pip install -r requirements.txt\n",
        "!pip install scikit-image dominate\n"
      ],
      "metadata": {
        "colab": {
          "base_uri": "https://localhost:8080/"
        },
        "id": "auHcHWrxL5Mg",
        "outputId": "799cabaa-b767-4b6c-ac80-809a05b155d1"
      },
      "execution_count": 2,
      "outputs": [
        {
          "output_type": "stream",
          "name": "stdout",
          "text": [
            "\u001b[31mERROR: Could not open requirements file: [Errno 2] No such file or directory: 'requirements.txt'\u001b[0m\u001b[31m\n",
            "\u001b[0mRequirement already satisfied: scikit-image in /usr/local/lib/python3.11/dist-packages (0.25.2)\n",
            "Collecting dominate\n",
            "  Downloading dominate-2.9.1-py2.py3-none-any.whl.metadata (13 kB)\n",
            "Requirement already satisfied: numpy>=1.24 in /usr/local/lib/python3.11/dist-packages (from scikit-image) (2.0.2)\n",
            "Requirement already satisfied: scipy>=1.11.4 in /usr/local/lib/python3.11/dist-packages (from scikit-image) (1.15.3)\n",
            "Requirement already satisfied: networkx>=3.0 in /usr/local/lib/python3.11/dist-packages (from scikit-image) (3.5)\n",
            "Requirement already satisfied: pillow>=10.1 in /usr/local/lib/python3.11/dist-packages (from scikit-image) (11.2.1)\n",
            "Requirement already satisfied: imageio!=2.35.0,>=2.33 in /usr/local/lib/python3.11/dist-packages (from scikit-image) (2.37.0)\n",
            "Requirement already satisfied: tifffile>=2022.8.12 in /usr/local/lib/python3.11/dist-packages (from scikit-image) (2025.6.1)\n",
            "Requirement already satisfied: packaging>=21 in /usr/local/lib/python3.11/dist-packages (from scikit-image) (24.2)\n",
            "Requirement already satisfied: lazy-loader>=0.4 in /usr/local/lib/python3.11/dist-packages (from scikit-image) (0.4)\n",
            "Downloading dominate-2.9.1-py2.py3-none-any.whl (29 kB)\n",
            "Installing collected packages: dominate\n",
            "Successfully installed dominate-2.9.1\n"
          ]
        }
      ]
    },
    {
      "cell_type": "code",
      "source": [
        "import torch\n",
        "print(torch.__version__)  # Usually 2.x, but still compatible"
      ],
      "metadata": {
        "colab": {
          "base_uri": "https://localhost:8080/"
        },
        "id": "UX6Ms-GZMNg-",
        "outputId": "a90e5575-6fb7-4999-a03d-a12dfa066e56"
      },
      "execution_count": null,
      "outputs": [
        {
          "output_type": "stream",
          "name": "stdout",
          "text": [
            "2.6.0+cu124\n"
          ]
        }
      ]
    },
    {
      "cell_type": "code",
      "source": [
        "!pip install torch==1.13.1 torchvision==0.14.1\n",
        "!pip install opencv-python torchgeometry\n"
      ],
      "metadata": {
        "colab": {
          "base_uri": "https://localhost:8080/"
        },
        "id": "wdX81EVbL7an",
        "outputId": "404d6a3b-76a9-4ac5-b6e0-d71812290181"
      },
      "execution_count": 3,
      "outputs": [
        {
          "output_type": "stream",
          "name": "stdout",
          "text": [
            "Collecting torch==1.13.1\n",
            "  Downloading torch-1.13.1-cp311-cp311-manylinux1_x86_64.whl.metadata (24 kB)\n",
            "\u001b[31mERROR: Ignored the following yanked versions: 0.1.6, 0.1.7, 0.1.8, 0.1.9, 0.2.0, 0.2.1, 0.2.2, 0.2.2.post2, 0.2.2.post3, 0.15.0\u001b[0m\u001b[31m\n",
            "\u001b[0m\u001b[31mERROR: Could not find a version that satisfies the requirement torchvision==0.14.1 (from versions: 0.15.1, 0.15.2, 0.16.0, 0.16.1, 0.16.2, 0.17.0, 0.17.1, 0.17.2, 0.18.0, 0.18.1, 0.19.0, 0.19.1, 0.20.0, 0.20.1, 0.21.0, 0.22.0, 0.22.1)\u001b[0m\u001b[31m\n",
            "\u001b[0m\u001b[31mERROR: No matching distribution found for torchvision==0.14.1\u001b[0m\u001b[31m\n",
            "\u001b[0mRequirement already satisfied: opencv-python in /usr/local/lib/python3.11/dist-packages (4.11.0.86)\n",
            "Collecting torchgeometry\n",
            "  Downloading torchgeometry-0.1.2-py2.py3-none-any.whl.metadata (2.9 kB)\n",
            "Requirement already satisfied: numpy>=1.21.2 in /usr/local/lib/python3.11/dist-packages (from opencv-python) (2.0.2)\n",
            "Requirement already satisfied: torch>=1.0.0 in /usr/local/lib/python3.11/dist-packages (from torchgeometry) (2.6.0+cu124)\n",
            "Requirement already satisfied: filelock in /usr/local/lib/python3.11/dist-packages (from torch>=1.0.0->torchgeometry) (3.18.0)\n",
            "Requirement already satisfied: typing-extensions>=4.10.0 in /usr/local/lib/python3.11/dist-packages (from torch>=1.0.0->torchgeometry) (4.14.0)\n",
            "Requirement already satisfied: networkx in /usr/local/lib/python3.11/dist-packages (from torch>=1.0.0->torchgeometry) (3.5)\n",
            "Requirement already satisfied: jinja2 in /usr/local/lib/python3.11/dist-packages (from torch>=1.0.0->torchgeometry) (3.1.6)\n",
            "Requirement already satisfied: fsspec in /usr/local/lib/python3.11/dist-packages (from torch>=1.0.0->torchgeometry) (2025.3.2)\n",
            "Collecting nvidia-cuda-nvrtc-cu12==12.4.127 (from torch>=1.0.0->torchgeometry)\n",
            "  Downloading nvidia_cuda_nvrtc_cu12-12.4.127-py3-none-manylinux2014_x86_64.whl.metadata (1.5 kB)\n",
            "Collecting nvidia-cuda-runtime-cu12==12.4.127 (from torch>=1.0.0->torchgeometry)\n",
            "  Downloading nvidia_cuda_runtime_cu12-12.4.127-py3-none-manylinux2014_x86_64.whl.metadata (1.5 kB)\n",
            "Collecting nvidia-cuda-cupti-cu12==12.4.127 (from torch>=1.0.0->torchgeometry)\n",
            "  Downloading nvidia_cuda_cupti_cu12-12.4.127-py3-none-manylinux2014_x86_64.whl.metadata (1.6 kB)\n",
            "Collecting nvidia-cudnn-cu12==9.1.0.70 (from torch>=1.0.0->torchgeometry)\n",
            "  Downloading nvidia_cudnn_cu12-9.1.0.70-py3-none-manylinux2014_x86_64.whl.metadata (1.6 kB)\n",
            "Collecting nvidia-cublas-cu12==12.4.5.8 (from torch>=1.0.0->torchgeometry)\n",
            "  Downloading nvidia_cublas_cu12-12.4.5.8-py3-none-manylinux2014_x86_64.whl.metadata (1.5 kB)\n",
            "Collecting nvidia-cufft-cu12==11.2.1.3 (from torch>=1.0.0->torchgeometry)\n",
            "  Downloading nvidia_cufft_cu12-11.2.1.3-py3-none-manylinux2014_x86_64.whl.metadata (1.5 kB)\n",
            "Collecting nvidia-curand-cu12==10.3.5.147 (from torch>=1.0.0->torchgeometry)\n",
            "  Downloading nvidia_curand_cu12-10.3.5.147-py3-none-manylinux2014_x86_64.whl.metadata (1.5 kB)\n",
            "Collecting nvidia-cusolver-cu12==11.6.1.9 (from torch>=1.0.0->torchgeometry)\n",
            "  Downloading nvidia_cusolver_cu12-11.6.1.9-py3-none-manylinux2014_x86_64.whl.metadata (1.6 kB)\n",
            "Collecting nvidia-cusparse-cu12==12.3.1.170 (from torch>=1.0.0->torchgeometry)\n",
            "  Downloading nvidia_cusparse_cu12-12.3.1.170-py3-none-manylinux2014_x86_64.whl.metadata (1.6 kB)\n",
            "Requirement already satisfied: nvidia-cusparselt-cu12==0.6.2 in /usr/local/lib/python3.11/dist-packages (from torch>=1.0.0->torchgeometry) (0.6.2)\n",
            "Requirement already satisfied: nvidia-nccl-cu12==2.21.5 in /usr/local/lib/python3.11/dist-packages (from torch>=1.0.0->torchgeometry) (2.21.5)\n",
            "Requirement already satisfied: nvidia-nvtx-cu12==12.4.127 in /usr/local/lib/python3.11/dist-packages (from torch>=1.0.0->torchgeometry) (12.4.127)\n",
            "Collecting nvidia-nvjitlink-cu12==12.4.127 (from torch>=1.0.0->torchgeometry)\n",
            "  Downloading nvidia_nvjitlink_cu12-12.4.127-py3-none-manylinux2014_x86_64.whl.metadata (1.5 kB)\n",
            "Requirement already satisfied: triton==3.2.0 in /usr/local/lib/python3.11/dist-packages (from torch>=1.0.0->torchgeometry) (3.2.0)\n",
            "Requirement already satisfied: sympy==1.13.1 in /usr/local/lib/python3.11/dist-packages (from torch>=1.0.0->torchgeometry) (1.13.1)\n",
            "Requirement already satisfied: mpmath<1.4,>=1.1.0 in /usr/local/lib/python3.11/dist-packages (from sympy==1.13.1->torch>=1.0.0->torchgeometry) (1.3.0)\n",
            "Requirement already satisfied: MarkupSafe>=2.0 in /usr/local/lib/python3.11/dist-packages (from jinja2->torch>=1.0.0->torchgeometry) (3.0.2)\n",
            "Downloading torchgeometry-0.1.2-py2.py3-none-any.whl (42 kB)\n",
            "\u001b[2K   \u001b[90m━━━━━━━━━━━━━━━━━━━━━━━━━━━━━━━━━━━━━━━━\u001b[0m \u001b[32m42.7/42.7 kB\u001b[0m \u001b[31m2.6 MB/s\u001b[0m eta \u001b[36m0:00:00\u001b[0m\n",
            "\u001b[?25hDownloading nvidia_cublas_cu12-12.4.5.8-py3-none-manylinux2014_x86_64.whl (363.4 MB)\n",
            "\u001b[2K   \u001b[90m━━━━━━━━━━━━━━━━━━━━━━━━━━━━━━━━━━━━━━━━\u001b[0m \u001b[32m363.4/363.4 MB\u001b[0m \u001b[31m3.9 MB/s\u001b[0m eta \u001b[36m0:00:00\u001b[0m\n",
            "\u001b[?25hDownloading nvidia_cuda_cupti_cu12-12.4.127-py3-none-manylinux2014_x86_64.whl (13.8 MB)\n",
            "\u001b[2K   \u001b[90m━━━━━━━━━━━━━━━━━━━━━━━━━━━━━━━━━━━━━━━━\u001b[0m \u001b[32m13.8/13.8 MB\u001b[0m \u001b[31m87.5 MB/s\u001b[0m eta \u001b[36m0:00:00\u001b[0m\n",
            "\u001b[?25hDownloading nvidia_cuda_nvrtc_cu12-12.4.127-py3-none-manylinux2014_x86_64.whl (24.6 MB)\n",
            "\u001b[2K   \u001b[90m━━━━━━━━━━━━━━━━━━━━━━━━━━━━━━━━━━━━━━━━\u001b[0m \u001b[32m24.6/24.6 MB\u001b[0m \u001b[31m68.8 MB/s\u001b[0m eta \u001b[36m0:00:00\u001b[0m\n",
            "\u001b[?25hDownloading nvidia_cuda_runtime_cu12-12.4.127-py3-none-manylinux2014_x86_64.whl (883 kB)\n",
            "\u001b[2K   \u001b[90m━━━━━━━━━━━━━━━━━━━━━━━━━━━━━━━━━━━━━━━━\u001b[0m \u001b[32m883.7/883.7 kB\u001b[0m \u001b[31m51.8 MB/s\u001b[0m eta \u001b[36m0:00:00\u001b[0m\n",
            "\u001b[?25hDownloading nvidia_cudnn_cu12-9.1.0.70-py3-none-manylinux2014_x86_64.whl (664.8 MB)\n",
            "\u001b[2K   \u001b[90m━━━━━━━━━━━━━━━━━━━━━━━━━━━━━━━━━━━━━━━━\u001b[0m \u001b[32m664.8/664.8 MB\u001b[0m \u001b[31m2.0 MB/s\u001b[0m eta \u001b[36m0:00:00\u001b[0m\n",
            "\u001b[?25hDownloading nvidia_cufft_cu12-11.2.1.3-py3-none-manylinux2014_x86_64.whl (211.5 MB)\n",
            "\u001b[2K   \u001b[90m━━━━━━━━━━━━━━━━━━━━━━━━━━━━━━━━━━━━━━━━\u001b[0m \u001b[32m211.5/211.5 MB\u001b[0m \u001b[31m5.5 MB/s\u001b[0m eta \u001b[36m0:00:00\u001b[0m\n",
            "\u001b[?25hDownloading nvidia_curand_cu12-10.3.5.147-py3-none-manylinux2014_x86_64.whl (56.3 MB)\n",
            "\u001b[2K   \u001b[90m━━━━━━━━━━━━━━━━━━━━━━━━━━━━━━━━━━━━━━━━\u001b[0m \u001b[32m56.3/56.3 MB\u001b[0m \u001b[31m14.7 MB/s\u001b[0m eta \u001b[36m0:00:00\u001b[0m\n",
            "\u001b[?25hDownloading nvidia_cusolver_cu12-11.6.1.9-py3-none-manylinux2014_x86_64.whl (127.9 MB)\n",
            "\u001b[2K   \u001b[90m━━━━━━━━━━━━━━━━━━━━━━━━━━━━━━━━━━━━━━━━\u001b[0m \u001b[32m127.9/127.9 MB\u001b[0m \u001b[31m7.3 MB/s\u001b[0m eta \u001b[36m0:00:00\u001b[0m\n",
            "\u001b[?25hDownloading nvidia_cusparse_cu12-12.3.1.170-py3-none-manylinux2014_x86_64.whl (207.5 MB)\n",
            "\u001b[2K   \u001b[90m━━━━━━━━━━━━━━━━━━━━━━━━━━━━━━━━━━━━━━━━\u001b[0m \u001b[32m207.5/207.5 MB\u001b[0m \u001b[31m5.5 MB/s\u001b[0m eta \u001b[36m0:00:00\u001b[0m\n",
            "\u001b[?25hDownloading nvidia_nvjitlink_cu12-12.4.127-py3-none-manylinux2014_x86_64.whl (21.1 MB)\n",
            "\u001b[2K   \u001b[90m━━━━━━━━━━━━━━━━━━━━━━━━━━━━━━━━━━━━━━━━\u001b[0m \u001b[32m21.1/21.1 MB\u001b[0m \u001b[31m36.9 MB/s\u001b[0m eta \u001b[36m0:00:00\u001b[0m\n",
            "\u001b[?25hInstalling collected packages: nvidia-nvjitlink-cu12, nvidia-curand-cu12, nvidia-cufft-cu12, nvidia-cuda-runtime-cu12, nvidia-cuda-nvrtc-cu12, nvidia-cuda-cupti-cu12, nvidia-cublas-cu12, nvidia-cusparse-cu12, nvidia-cudnn-cu12, nvidia-cusolver-cu12, torchgeometry\n",
            "  Attempting uninstall: nvidia-nvjitlink-cu12\n",
            "    Found existing installation: nvidia-nvjitlink-cu12 12.5.82\n",
            "    Uninstalling nvidia-nvjitlink-cu12-12.5.82:\n",
            "      Successfully uninstalled nvidia-nvjitlink-cu12-12.5.82\n",
            "  Attempting uninstall: nvidia-curand-cu12\n",
            "    Found existing installation: nvidia-curand-cu12 10.3.6.82\n",
            "    Uninstalling nvidia-curand-cu12-10.3.6.82:\n",
            "      Successfully uninstalled nvidia-curand-cu12-10.3.6.82\n",
            "  Attempting uninstall: nvidia-cufft-cu12\n",
            "    Found existing installation: nvidia-cufft-cu12 11.2.3.61\n",
            "    Uninstalling nvidia-cufft-cu12-11.2.3.61:\n",
            "      Successfully uninstalled nvidia-cufft-cu12-11.2.3.61\n",
            "  Attempting uninstall: nvidia-cuda-runtime-cu12\n",
            "    Found existing installation: nvidia-cuda-runtime-cu12 12.5.82\n",
            "    Uninstalling nvidia-cuda-runtime-cu12-12.5.82:\n",
            "      Successfully uninstalled nvidia-cuda-runtime-cu12-12.5.82\n",
            "  Attempting uninstall: nvidia-cuda-nvrtc-cu12\n",
            "    Found existing installation: nvidia-cuda-nvrtc-cu12 12.5.82\n",
            "    Uninstalling nvidia-cuda-nvrtc-cu12-12.5.82:\n",
            "      Successfully uninstalled nvidia-cuda-nvrtc-cu12-12.5.82\n",
            "  Attempting uninstall: nvidia-cuda-cupti-cu12\n",
            "    Found existing installation: nvidia-cuda-cupti-cu12 12.5.82\n",
            "    Uninstalling nvidia-cuda-cupti-cu12-12.5.82:\n",
            "      Successfully uninstalled nvidia-cuda-cupti-cu12-12.5.82\n",
            "  Attempting uninstall: nvidia-cublas-cu12\n",
            "    Found existing installation: nvidia-cublas-cu12 12.5.3.2\n",
            "    Uninstalling nvidia-cublas-cu12-12.5.3.2:\n",
            "      Successfully uninstalled nvidia-cublas-cu12-12.5.3.2\n",
            "  Attempting uninstall: nvidia-cusparse-cu12\n",
            "    Found existing installation: nvidia-cusparse-cu12 12.5.1.3\n",
            "    Uninstalling nvidia-cusparse-cu12-12.5.1.3:\n",
            "      Successfully uninstalled nvidia-cusparse-cu12-12.5.1.3\n",
            "  Attempting uninstall: nvidia-cudnn-cu12\n",
            "    Found existing installation: nvidia-cudnn-cu12 9.3.0.75\n",
            "    Uninstalling nvidia-cudnn-cu12-9.3.0.75:\n",
            "      Successfully uninstalled nvidia-cudnn-cu12-9.3.0.75\n",
            "  Attempting uninstall: nvidia-cusolver-cu12\n",
            "    Found existing installation: nvidia-cusolver-cu12 11.6.3.83\n",
            "    Uninstalling nvidia-cusolver-cu12-11.6.3.83:\n",
            "      Successfully uninstalled nvidia-cusolver-cu12-11.6.3.83\n",
            "Successfully installed nvidia-cublas-cu12-12.4.5.8 nvidia-cuda-cupti-cu12-12.4.127 nvidia-cuda-nvrtc-cu12-12.4.127 nvidia-cuda-runtime-cu12-12.4.127 nvidia-cudnn-cu12-9.1.0.70 nvidia-cufft-cu12-11.2.1.3 nvidia-curand-cu12-10.3.5.147 nvidia-cusolver-cu12-11.6.1.9 nvidia-cusparse-cu12-12.3.1.170 nvidia-nvjitlink-cu12-12.4.127 torchgeometry-0.1.2\n"
          ]
        }
      ]
    },
    {
      "cell_type": "code",
      "source": [
        "!unzip /content/checkpoints-20250614T063554Z-1-001.zip -d /content/VITON-HD/"
      ],
      "metadata": {
        "colab": {
          "base_uri": "https://localhost:8080/"
        },
        "id": "jSIkDzkpMisL",
        "outputId": "11b72e6c-d539-4bb0-a0b2-d349307b0828"
      },
      "execution_count": 4,
      "outputs": [
        {
          "output_type": "stream",
          "name": "stdout",
          "text": [
            "Archive:  /content/checkpoints-20250614T063554Z-1-001.zip\n",
            "  inflating: /content/VITON-HD/checkpoints/gmm_final.pth  \n",
            "  inflating: /content/VITON-HD/checkpoints/seg_final.pth  \n",
            "  inflating: /content/VITON-HD/checkpoints/alias_final.pth  \n"
          ]
        }
      ]
    },
    {
      "cell_type": "code",
      "source": [
        "# import shutil\n",
        "\n",
        "# shutil.rmtree(\"/content/VITON-HD/datasets\")\n",
        "# print(\"✅ Folder deleted.\")\n"
      ],
      "metadata": {
        "colab": {
          "base_uri": "https://localhost:8080/"
        },
        "id": "uyCp9IC9IA-C",
        "outputId": "72c1676e-5e9b-41ea-bd4a-6a2ef11f189b"
      },
      "execution_count": null,
      "outputs": [
        {
          "output_type": "stream",
          "name": "stdout",
          "text": [
            "✅ Folder deleted.\n"
          ]
        }
      ]
    },
    {
      "cell_type": "code",
      "source": [
        "!unzip /content/dataset_viton.zip -d /content/VITON-HD"
      ],
      "metadata": {
        "colab": {
          "base_uri": "https://localhost:8080/"
        },
        "id": "C0pmshX9Oj0r",
        "outputId": "7b0075d4-d7cf-4afa-8028-01837edef880"
      },
      "execution_count": 5,
      "outputs": [
        {
          "output_type": "stream",
          "name": "stdout",
          "text": [
            "Archive:  /content/dataset_viton.zip\n",
            "  inflating: /content/VITON-HD/datasets/test.zip.zip  \n",
            "  inflating: /content/VITON-HD/datasets/test_pairs.txt  \n"
          ]
        }
      ]
    },
    {
      "cell_type": "code",
      "source": [
        "!unzip /content/VITON-HD/datasets/test.zip.zip -d /content/VITON-HD/datasets/"
      ],
      "metadata": {
        "colab": {
          "base_uri": "https://localhost:8080/"
        },
        "id": "zLDh6QR8Oxrn",
        "outputId": "75cc8bfb-e4be-4fd8-d18c-1362b1474b7d"
      },
      "execution_count": 6,
      "outputs": [
        {
          "output_type": "stream",
          "name": "stdout",
          "text": [
            "Archive:  /content/VITON-HD/datasets/test.zip.zip\n",
            "   creating: /content/VITON-HD/datasets/test/\n",
            "   creating: /content/VITON-HD/datasets/test/cloth/\n",
            "  inflating: /content/VITON-HD/datasets/test/cloth/01260_00.jpg  \n",
            "  inflating: /content/VITON-HD/datasets/test/cloth/01430_00.jpg  \n",
            "  inflating: /content/VITON-HD/datasets/test/cloth/02783_00.jpg  \n",
            "  inflating: /content/VITON-HD/datasets/test/cloth/03751_00.jpg  \n",
            "  inflating: /content/VITON-HD/datasets/test/cloth/06429_00.jpg  \n",
            "  inflating: /content/VITON-HD/datasets/test/cloth/06802_00.jpg  \n",
            "  inflating: /content/VITON-HD/datasets/test/cloth/07429_00.jpg  \n",
            "  inflating: /content/VITON-HD/datasets/test/cloth/08348_00.jpg  \n",
            "  inflating: /content/VITON-HD/datasets/test/cloth/09933_00.jpg  \n",
            "  inflating: /content/VITON-HD/datasets/test/cloth/11028_00.jpg  \n",
            "  inflating: /content/VITON-HD/datasets/test/cloth/11351_00.jpg  \n",
            "  inflating: /content/VITON-HD/datasets/test/cloth/11791_00.jpg  \n",
            "  inflating: /content/VITON-HD/datasets/test/cloth/manual_cloth.jpg  \n",
            "   creating: /content/VITON-HD/datasets/test/cloth-mask/\n",
            "  inflating: /content/VITON-HD/datasets/test/cloth-mask/01260_00.jpg  \n",
            "  inflating: /content/VITON-HD/datasets/test/cloth-mask/01430_00.jpg  \n",
            "  inflating: /content/VITON-HD/datasets/test/cloth-mask/02783_00.jpg  \n",
            "  inflating: /content/VITON-HD/datasets/test/cloth-mask/03751_00.jpg  \n",
            "  inflating: /content/VITON-HD/datasets/test/cloth-mask/06429_00.jpg  \n",
            "  inflating: /content/VITON-HD/datasets/test/cloth-mask/06802_00.jpg  \n",
            "  inflating: /content/VITON-HD/datasets/test/cloth-mask/07429_00.jpg  \n",
            "  inflating: /content/VITON-HD/datasets/test/cloth-mask/08348_00.jpg  \n",
            "  inflating: /content/VITON-HD/datasets/test/cloth-mask/09933_00.jpg  \n",
            "  inflating: /content/VITON-HD/datasets/test/cloth-mask/11028_00.jpg  \n",
            "  inflating: /content/VITON-HD/datasets/test/cloth-mask/11351_00.jpg  \n",
            "  inflating: /content/VITON-HD/datasets/test/cloth-mask/11791_00.jpg  \n",
            "   creating: /content/VITON-HD/datasets/test/image/\n",
            "  inflating: /content/VITON-HD/datasets/test/image/00891_00.jpg  \n",
            "  inflating: /content/VITON-HD/datasets/test/image/03615_00.jpg  \n",
            "  inflating: /content/VITON-HD/datasets/test/image/07445_00.jpg  \n",
            "  inflating: /content/VITON-HD/datasets/test/image/07573_00.jpg  \n",
            "  inflating: /content/VITON-HD/datasets/test/image/08909_00.jpg  \n",
            "  inflating: /content/VITON-HD/datasets/test/image/10549_00.jpg  \n",
            "  inflating: /content/VITON-HD/datasets/test/image/manual_image.jpg  \n",
            "   creating: /content/VITON-HD/datasets/test/image-parse/\n",
            "  inflating: /content/VITON-HD/datasets/test/image-parse/00891_00.png  \n",
            "  inflating: /content/VITON-HD/datasets/test/image-parse/03615_00.png  \n",
            "  inflating: /content/VITON-HD/datasets/test/image-parse/07445_00.png  \n",
            "  inflating: /content/VITON-HD/datasets/test/image-parse/07573_00.png  \n",
            "  inflating: /content/VITON-HD/datasets/test/image-parse/08909_00.png  \n",
            "  inflating: /content/VITON-HD/datasets/test/image-parse/10549_00.png  \n",
            "   creating: /content/VITON-HD/datasets/test/openpose-img/\n",
            "  inflating: /content/VITON-HD/datasets/test/openpose-img/00891_00_rendered.png  \n",
            "  inflating: /content/VITON-HD/datasets/test/openpose-img/03615_00_rendered.png  \n",
            "  inflating: /content/VITON-HD/datasets/test/openpose-img/07445_00_rendered.png  \n",
            "  inflating: /content/VITON-HD/datasets/test/openpose-img/07573_00_rendered.png  \n",
            "  inflating: /content/VITON-HD/datasets/test/openpose-img/08909_00_rendered.png  \n",
            "  inflating: /content/VITON-HD/datasets/test/openpose-img/10549_00_rendered.png  \n",
            "  inflating: /content/VITON-HD/datasets/test/openpose-img/manual_image_rendered.png  \n",
            "   creating: /content/VITON-HD/datasets/test/openpose-json/\n",
            "  inflating: /content/VITON-HD/datasets/test/openpose-json/00891_00_keypoints.json  \n",
            "  inflating: /content/VITON-HD/datasets/test/openpose-json/03615_00_keypoints.json  \n",
            "  inflating: /content/VITON-HD/datasets/test/openpose-json/07445_00_keypoints.json  \n",
            "  inflating: /content/VITON-HD/datasets/test/openpose-json/07573_00_keypoints.json  \n",
            "  inflating: /content/VITON-HD/datasets/test/openpose-json/08909_00_keypoints.json  \n",
            "  inflating: /content/VITON-HD/datasets/test/openpose-json/10549_00_keypoints.json  \n",
            "  inflating: /content/VITON-HD/datasets/test/openpose-json/manual_image_keypoints.json  \n"
          ]
        }
      ]
    },
    {
      "cell_type": "code",
      "source": [
        "!python test.py --name viton_hd"
      ],
      "metadata": {
        "colab": {
          "base_uri": "https://localhost:8080/"
        },
        "id": "03B5PoWXO8Dv",
        "outputId": "80d038e6-3e17-47e5-de06-e7137ee13725"
      },
      "execution_count": null,
      "outputs": [
        {
          "output_type": "stream",
          "name": "stdout",
          "text": [
            "Namespace(name='viton_hd', batch_size=1, workers=1, load_height=1024, load_width=768, shuffle=False, dataset_dir='./datasets/', dataset_mode='test', dataset_list='test_pairs.txt', checkpoint_dir='./checkpoints/', save_dir='./results/', display_freq=1, seg_checkpoint='seg_final.pth', gmm_checkpoint='gmm_final.pth', alias_checkpoint='alias_final.pth', semantic_nc=13, init_type='xavier', init_variance=0.02, grid_size=5, norm_G='spectralaliasinstance', ngf=64, num_upsampling_layers='most')\n",
            "Network [SegGenerator] was created. Total number of parameters: 34.5 million. To see the architecture, do print(network).\n",
            "Network [ALIASGenerator] was created. Total number of parameters: 100.5 million. To see the architecture, do print(network).\n",
            "/usr/local/lib/python3.11/dist-packages/torch/nn/functional.py:5015: UserWarning: Default grid_sample and affine_grid behavior has changed to align_corners=False since 1.3.0. Please specify align_corners=True if the old behavior is desired. See the documentation of grid_sample for details.\n",
            "  warnings.warn(\n",
            "step: 1\n",
            "step: 2\n",
            "step: 3\n",
            "step: 4\n",
            "step: 5\n",
            "step: 6\n"
          ]
        }
      ]
    },
    {
      "cell_type": "code",
      "source": [
        "import os\n",
        "from IPython.display import Image, display\n",
        "\n",
        "output_folder = \"results/viton_hd/\"\n",
        "file_list = os.listdir(output_folder)\n",
        "\n",
        "# Show first output\n",
        "display(Image(filename=os.path.join(output_folder, file_list[0])))\n"
      ],
      "metadata": {
        "colab": {
          "base_uri": "https://localhost:8080/",
          "height": 1000
        },
        "id": "bmcD51KTO9CF",
        "outputId": "e8650377-1532-472b-e8d0-8361e07d3a3a"
      },
      "execution_count": null,
      "outputs": [
        {
          "output_type": "display_data",
          "data": {
            "image/jpeg": "[encoded data removed]",
            "text/plain": [
              "<IPython.core.display.Image object>"
            ]
          },
          "metadata": {}
        }
      ]
    },
    {
      "cell_type": "code",
      "source": [
        "!git clone https://github.com/xuebinqin/U-2-Net"
      ],
      "metadata": {
        "colab": {
          "base_uri": "https://localhost:8080/"
        },
        "id": "HAgzp_ceSQDC",
        "outputId": "337564f0-e8ec-433d-ec1d-185098b7ffc1"
      },
      "execution_count": 7,
      "outputs": [
        {
          "output_type": "stream",
          "name": "stdout",
          "text": [
            "Cloning into 'U-2-Net'...\n",
            "remote: Enumerating objects: 1077, done.\u001b[K\n",
            "remote: Counting objects: 100% (422/422), done.\u001b[K\n",
            "remote: Compressing objects: 100% (42/42), done.\u001b[K\n",
            "remote: Total 1077 (delta 398), reused 380 (delta 380), pack-reused 655 (from 2)\u001b[K\n",
            "Receiving objects: 100% (1077/1077), 66.95 MiB | 33.13 MiB/s, done.\n",
            "Resolving deltas: 100% (539/539), done.\n"
          ]
        }
      ]
    },
    {
      "cell_type": "code",
      "source": [
        "%cd /content/VITON-HD/U-2-Net"
      ],
      "metadata": {
        "colab": {
          "base_uri": "https://localhost:8080/"
        },
        "id": "JzAku0gaTWdb",
        "outputId": "e54991b8-9ade-49dd-a6c3-15f6feba4bd0"
      },
      "execution_count": 8,
      "outputs": [
        {
          "output_type": "stream",
          "name": "stdout",
          "text": [
            "/content/VITON-HD/U-2-Net\n"
          ]
        }
      ]
    },
    {
      "cell_type": "code",
      "source": [
        "!pip install scikit-image opencv-python pillow\n"
      ],
      "metadata": {
        "colab": {
          "base_uri": "https://localhost:8080/"
        },
        "id": "qnvXqVKdScY3",
        "outputId": "eaba1071-d7d6-437e-97df-37f9a122ac34"
      },
      "execution_count": 9,
      "outputs": [
        {
          "output_type": "stream",
          "name": "stdout",
          "text": [
            "Requirement already satisfied: scikit-image in /usr/local/lib/python3.11/dist-packages (0.25.2)\n",
            "Requirement already satisfied: opencv-python in /usr/local/lib/python3.11/dist-packages (4.11.0.86)\n",
            "Requirement already satisfied: pillow in /usr/local/lib/python3.11/dist-packages (11.2.1)\n",
            "Requirement already satisfied: numpy>=1.24 in /usr/local/lib/python3.11/dist-packages (from scikit-image) (2.0.2)\n",
            "Requirement already satisfied: scipy>=1.11.4 in /usr/local/lib/python3.11/dist-packages (from scikit-image) (1.15.3)\n",
            "Requirement already satisfied: networkx>=3.0 in /usr/local/lib/python3.11/dist-packages (from scikit-image) (3.5)\n",
            "Requirement already satisfied: imageio!=2.35.0,>=2.33 in /usr/local/lib/python3.11/dist-packages (from scikit-image) (2.37.0)\n",
            "Requirement already satisfied: tifffile>=2022.8.12 in /usr/local/lib/python3.11/dist-packages (from scikit-image) (2025.6.1)\n",
            "Requirement already satisfied: packaging>=21 in /usr/local/lib/python3.11/dist-packages (from scikit-image) (24.2)\n",
            "Requirement already satisfied: lazy-loader>=0.4 in /usr/local/lib/python3.11/dist-packages (from scikit-image) (0.4)\n"
          ]
        }
      ]
    },
    {
      "cell_type": "markdown",
      "source": [
        "UPLOAD U2NET MODEL IN U2NET FOLDER IN SAVED MODELS DIRECTORY"
      ],
      "metadata": {
        "id": "Bh-eO0-mG23m"
      }
    },
    {
      "cell_type": "code",
      "source": [
        "!cp /content/VITON-HD/datasets/test/cloth/manual_cloth2.jpg /content/VITON-HD/U-2-Net/test_data/test_images"
      ],
      "metadata": {
        "id": "PY5I0yG6Xqd6"
      },
      "execution_count": 10,
      "outputs": []
    },
    {
      "cell_type": "code",
      "source": [
        "%cd /content/VITON-HD/U-2-Net"
      ],
      "metadata": {
        "colab": {
          "base_uri": "https://localhost:8080/"
        },
        "id": "CU--WNdABqaO",
        "outputId": "e6506e4b-86cb-4390-e666-511c1b42af64"
      },
      "execution_count": 11,
      "outputs": [
        {
          "output_type": "stream",
          "name": "stdout",
          "text": [
            "/content/VITON-HD/U-2-Net\n"
          ]
        }
      ]
    },
    {
      "cell_type": "code",
      "source": [
        "!python u2net_test.py"
      ],
      "metadata": {
        "colab": {
          "base_uri": "https://localhost:8080/"
        },
        "id": "Mz6LZtypUn1i",
        "outputId": "9a3bf6bf-a100-453b-ff8f-19e1aada7c0a"
      },
      "execution_count": 12,
      "outputs": [
        {
          "output_type": "stream",
          "name": "stdout",
          "text": [
            "['/content/VITON-HD/U-2-Net/test_data/test_images/rifle2.jpeg', '/content/VITON-HD/U-2-Net/test_data/test_images/long.jpg', '/content/VITON-HD/U-2-Net/test_data/test_images/hockey.png', '/content/VITON-HD/U-2-Net/test_data/test_images/im_01.png', '/content/VITON-HD/U-2-Net/test_data/test_images/sailboat3.jpg', '/content/VITON-HD/U-2-Net/test_data/test_images/im_21.png', '/content/VITON-HD/U-2-Net/test_data/test_images/0003.jpg', '/content/VITON-HD/U-2-Net/test_data/test_images/0002-01.jpg', '/content/VITON-HD/U-2-Net/test_data/test_images/whisk.png', '/content/VITON-HD/U-2-Net/test_data/test_images/rifle1.jpg', '/content/VITON-HD/U-2-Net/test_data/test_images/im_14.png', '/content/VITON-HD/U-2-Net/test_data/test_images/horse.jpg', '/content/VITON-HD/U-2-Net/test_data/test_images/im_27.png', '/content/VITON-HD/U-2-Net/test_data/test_images/girl.png', '/content/VITON-HD/U-2-Net/test_data/test_images/lamp2_meitu_1.jpg', '/content/VITON-HD/U-2-Net/test_data/test_images/bike.jpg', '/content/VITON-HD/U-2-Net/test_data/test_images/manual_cloth2.jpg', '/content/VITON-HD/U-2-Net/test_data/test_images/boat.jpg', '/content/VITON-HD/U-2-Net/test_data/test_images/vangogh.jpeg']\n",
            "...load U2NET---173.6 MB\n",
            "inferencing: rifle2.jpeg\n",
            "/content/VITON-HD/U-2-Net/model/u2net.py:23: UserWarning: `nn.functional.upsample` is deprecated. Use `nn.functional.interpolate` instead.\n",
            "  src = F.upsample(src,size=tar.shape[2:],mode='bilinear')\n",
            "inferencing: long.jpg\n",
            "/content/VITON-HD/U-2-Net/model/u2net.py:23: UserWarning: `nn.functional.upsample` is deprecated. Use `nn.functional.interpolate` instead.\n",
            "  src = F.upsample(src,size=tar.shape[2:],mode='bilinear')\n",
            "inferencing: hockey.png\n",
            "/content/VITON-HD/U-2-Net/model/u2net.py:23: UserWarning: `nn.functional.upsample` is deprecated. Use `nn.functional.interpolate` instead.\n",
            "  src = F.upsample(src,size=tar.shape[2:],mode='bilinear')\n",
            "inferencing: im_01.png\n",
            "/content/VITON-HD/U-2-Net/model/u2net.py:23: UserWarning: `nn.functional.upsample` is deprecated. Use `nn.functional.interpolate` instead.\n",
            "  src = F.upsample(src,size=tar.shape[2:],mode='bilinear')\n",
            "inferencing: sailboat3.jpg\n",
            "/content/VITON-HD/U-2-Net/model/u2net.py:23: UserWarning: `nn.functional.upsample` is deprecated. Use `nn.functional.interpolate` instead.\n",
            "  src = F.upsample(src,size=tar.shape[2:],mode='bilinear')\n",
            "inferencing: im_21.png\n",
            "/content/VITON-HD/U-2-Net/model/u2net.py:23: UserWarning: `nn.functional.upsample` is deprecated. Use `nn.functional.interpolate` instead.\n",
            "  src = F.upsample(src,size=tar.shape[2:],mode='bilinear')\n",
            "inferencing: 0003.jpg\n",
            "/content/VITON-HD/U-2-Net/model/u2net.py:23: UserWarning: `nn.functional.upsample` is deprecated. Use `nn.functional.interpolate` instead.\n",
            "  src = F.upsample(src,size=tar.shape[2:],mode='bilinear')\n",
            "inferencing: 0002-01.jpg\n",
            "/content/VITON-HD/U-2-Net/model/u2net.py:23: UserWarning: `nn.functional.upsample` is deprecated. Use `nn.functional.interpolate` instead.\n",
            "  src = F.upsample(src,size=tar.shape[2:],mode='bilinear')\n",
            "inferencing: whisk.png\n",
            "/content/VITON-HD/U-2-Net/model/u2net.py:23: UserWarning: `nn.functional.upsample` is deprecated. Use `nn.functional.interpolate` instead.\n",
            "  src = F.upsample(src,size=tar.shape[2:],mode='bilinear')\n",
            "inferencing: rifle1.jpg\n",
            "/content/VITON-HD/U-2-Net/model/u2net.py:23: UserWarning: `nn.functional.upsample` is deprecated. Use `nn.functional.interpolate` instead.\n",
            "  src = F.upsample(src,size=tar.shape[2:],mode='bilinear')\n",
            "inferencing: im_14.png\n",
            "/content/VITON-HD/U-2-Net/model/u2net.py:23: UserWarning: `nn.functional.upsample` is deprecated. Use `nn.functional.interpolate` instead.\n",
            "  src = F.upsample(src,size=tar.shape[2:],mode='bilinear')\n",
            "inferencing: horse.jpg\n",
            "/content/VITON-HD/U-2-Net/model/u2net.py:23: UserWarning: `nn.functional.upsample` is deprecated. Use `nn.functional.interpolate` instead.\n",
            "  src = F.upsample(src,size=tar.shape[2:],mode='bilinear')\n",
            "inferencing: im_27.png\n",
            "/content/VITON-HD/U-2-Net/model/u2net.py:23: UserWarning: `nn.functional.upsample` is deprecated. Use `nn.functional.interpolate` instead.\n",
            "  src = F.upsample(src,size=tar.shape[2:],mode='bilinear')\n",
            "inferencing: girl.png\n",
            "/content/VITON-HD/U-2-Net/model/u2net.py:23: UserWarning: `nn.functional.upsample` is deprecated. Use `nn.functional.interpolate` instead.\n",
            "  src = F.upsample(src,size=tar.shape[2:],mode='bilinear')\n",
            "inferencing: lamp2_meitu_1.jpg\n",
            "/content/VITON-HD/U-2-Net/model/u2net.py:23: UserWarning: `nn.functional.upsample` is deprecated. Use `nn.functional.interpolate` instead.\n",
            "  src = F.upsample(src,size=tar.shape[2:],mode='bilinear')\n",
            "inferencing: bike.jpg\n",
            "/content/VITON-HD/U-2-Net/model/u2net.py:23: UserWarning: `nn.functional.upsample` is deprecated. Use `nn.functional.interpolate` instead.\n",
            "  src = F.upsample(src,size=tar.shape[2:],mode='bilinear')\n",
            "inferencing: manual_cloth2.jpg\n",
            "/content/VITON-HD/U-2-Net/model/u2net.py:23: UserWarning: `nn.functional.upsample` is deprecated. Use `nn.functional.interpolate` instead.\n",
            "  src = F.upsample(src,size=tar.shape[2:],mode='bilinear')\n",
            "inferencing: boat.jpg\n",
            "/content/VITON-HD/U-2-Net/model/u2net.py:23: UserWarning: `nn.functional.upsample` is deprecated. Use `nn.functional.interpolate` instead.\n",
            "  src = F.upsample(src,size=tar.shape[2:],mode='bilinear')\n",
            "inferencing: vangogh.jpeg\n",
            "/content/VITON-HD/U-2-Net/model/u2net.py:23: UserWarning: `nn.functional.upsample` is deprecated. Use `nn.functional.interpolate` instead.\n",
            "  src = F.upsample(src,size=tar.shape[2:],mode='bilinear')\n"
          ]
        }
      ]
    },
    {
      "cell_type": "code",
      "source": [
        "import cv2\n",
        "import os\n",
        "\n",
        "# Paths\n",
        "input_path = \"/content/VITON-HD/U-2-Net/test_data/u2net_results/manual_cloth2.png\"\n",
        "output_path = \"/content/VITON-HD/datasets/test/cloth-mask/manual_cloth2.jpg\"\n",
        "\n",
        "# Load in grayscale\n",
        "mask = cv2.imread(input_path, cv2.IMREAD_GRAYSCALE)\n",
        "\n",
        "# Resize to (768, 1024) if needed (VITON-HD input size)\n",
        "mask = cv2.resize(mask, (768, 1024), interpolation=cv2.INTER_LINEAR)\n",
        "\n",
        "# Apply binary threshold\n",
        "_, binary_mask = cv2.threshold(mask, 200, 255, cv2.THRESH_BINARY)\n",
        "\n",
        "# Save the clean mask\n",
        "cv2.imwrite(output_path, binary_mask)\n"
      ],
      "metadata": {
        "colab": {
          "base_uri": "https://localhost:8080/"
        },
        "id": "udWiebCRaEkW",
        "outputId": "8dfb9224-0e12-4ba8-d0fc-55245674b13a"
      },
      "execution_count": 13,
      "outputs": [
        {
          "output_type": "execute_result",
          "data": {
            "text/plain": [
              "True"
            ]
          },
          "metadata": {},
          "execution_count": 13
        }
      ]
    },
    {
      "cell_type": "markdown",
      "source": [
        "THIS CODE WAS FOR CLEANING THE CLOTH-MASK GENERATED FROM U2NET MODEL , MAKING IT LOOK BRIGHT AND COMPATIBLE WITH VITON HD"
      ],
      "metadata": {
        "id": "MK_zZgGMHVb2"
      }
    },
    {
      "cell_type": "markdown",
      "source": [
        "IMAGE-PARSE"
      ],
      "metadata": {
        "id": "lxwRYc30bhT5"
      }
    },
    {
      "cell_type": "code",
      "source": [
        "!git clone https://github.com/GoGoDuck912/Self-Correction-Human-Parsing.git\n",
        "%cd Self-Correction-Human-Parsing"
      ],
      "metadata": {
        "colab": {
          "base_uri": "https://localhost:8080/"
        },
        "id": "tOMWO89iDqA8",
        "outputId": "7f8a4372-f8db-4b9c-e9aa-507218a3f18f"
      },
      "execution_count": 14,
      "outputs": [
        {
          "output_type": "stream",
          "name": "stdout",
          "text": [
            "Cloning into 'Self-Correction-Human-Parsing'...\n",
            "remote: Enumerating objects: 722, done.\u001b[K\n",
            "remote: Counting objects: 100% (174/174), done.\u001b[K\n",
            "remote: Compressing objects: 100% (110/110), done.\u001b[K\n",
            "remote: Total 722 (delta 74), reused 64 (delta 64), pack-reused 548 (from 2)\u001b[K\n",
            "Receiving objects: 100% (722/722), 3.88 MiB | 8.49 MiB/s, done.\n",
            "Resolving deltas: 100% (150/150), done.\n",
            "/content/VITON-HD/U-2-Net/Self-Correction-Human-Parsing\n"
          ]
        }
      ]
    },
    {
      "cell_type": "code",
      "source": [
        "!pip install yacs opencv-python pillow tqdm"
      ],
      "metadata": {
        "colab": {
          "base_uri": "https://localhost:8080/"
        },
        "id": "OwEdov8oDzLe",
        "outputId": "42ef9f1d-e079-400e-c0df-58c6443a4c45"
      },
      "execution_count": 15,
      "outputs": [
        {
          "output_type": "stream",
          "name": "stdout",
          "text": [
            "Collecting yacs\n",
            "  Downloading yacs-0.1.8-py3-none-any.whl.metadata (639 bytes)\n",
            "Requirement already satisfied: opencv-python in /usr/local/lib/python3.11/dist-packages (4.11.0.86)\n",
            "Requirement already satisfied: pillow in /usr/local/lib/python3.11/dist-packages (11.2.1)\n",
            "Requirement already satisfied: tqdm in /usr/local/lib/python3.11/dist-packages (4.67.1)\n",
            "Requirement already satisfied: PyYAML in /usr/local/lib/python3.11/dist-packages (from yacs) (6.0.2)\n",
            "Requirement already satisfied: numpy>=1.21.2 in /usr/local/lib/python3.11/dist-packages (from opencv-python) (2.0.2)\n",
            "Downloading yacs-0.1.8-py3-none-any.whl (14 kB)\n",
            "Installing collected packages: yacs\n",
            "Successfully installed yacs-0.1.8\n"
          ]
        }
      ]
    },
    {
      "cell_type": "code",
      "source": [
        "!mkdir -p models"
      ],
      "metadata": {
        "id": "FzRuezmlD58O"
      },
      "execution_count": 16,
      "outputs": []
    },
    {
      "cell_type": "code",
      "source": [
        "!pip install ninja"
      ],
      "metadata": {
        "colab": {
          "base_uri": "https://localhost:8080/"
        },
        "id": "moYNAfHCEFn1",
        "outputId": "9760869e-96e0-403d-eb7f-22d8864649aa"
      },
      "execution_count": 17,
      "outputs": [
        {
          "output_type": "stream",
          "name": "stdout",
          "text": [
            "Collecting ninja\n",
            "  Downloading ninja-1.11.1.4-py3-none-manylinux_2_12_x86_64.manylinux2010_x86_64.whl.metadata (5.0 kB)\n",
            "Downloading ninja-1.11.1.4-py3-none-manylinux_2_12_x86_64.manylinux2010_x86_64.whl (422 kB)\n",
            "\u001b[?25l   \u001b[90m━━━━━━━━━━━━━━━━━━━━━━━━━━━━━━━━━━━━━━━━\u001b[0m \u001b[32m0.0/422.8 kB\u001b[0m \u001b[31m?\u001b[0m eta \u001b[36m-:--:--\u001b[0m\r\u001b[2K   \u001b[91m━━━━━━━━━━━━━━━━━━━━━━━━━━━━━\u001b[0m\u001b[90m╺\u001b[0m\u001b[90m━━━━━━━━━━\u001b[0m \u001b[32m307.2/422.8 kB\u001b[0m \u001b[31m9.1 MB/s\u001b[0m eta \u001b[36m0:00:01\u001b[0m\r\u001b[2K   \u001b[90m━━━━━━━━━━━━━━━━━━━━━━━━━━━━━━━━━━━━━━━━\u001b[0m \u001b[32m422.8/422.8 kB\u001b[0m \u001b[31m8.7 MB/s\u001b[0m eta \u001b[36m0:00:00\u001b[0m\n",
            "\u001b[?25hInstalling collected packages: ninja\n",
            "Successfully installed ninja-1.11.1.4\n"
          ]
        }
      ]
    },
    {
      "cell_type": "code",
      "source": [
        "%cd /content/VITON-HD/U-2-Net/Self-Correction-Human-Parsing"
      ],
      "metadata": {
        "colab": {
          "base_uri": "https://localhost:8080/"
        },
        "id": "zyX0O3naEU9l",
        "outputId": "a4b5c52a-7388-483c-e069-19ce5530ba6f"
      },
      "execution_count": 18,
      "outputs": [
        {
          "output_type": "stream",
          "name": "stdout",
          "text": [
            "/content/VITON-HD/U-2-Net/Self-Correction-Human-Parsing\n"
          ]
        }
      ]
    },
    {
      "cell_type": "code",
      "source": [
        "!python simple_extractor.py \\\n",
        "  --dataset lip \\\n",
        "  --model-restore models/exp-schp-201908261155-lip.pth \\\n",
        "  --input-dir datasets/test/image \\\n",
        "  --output-dir datasets/test/image-parse"
      ],
      "metadata": {
        "colab": {
          "base_uri": "https://localhost:8080/"
        },
        "id": "-BWhxWznERJK",
        "outputId": "5f863c6d-1adf-411b-c432-8536797359dc"
      },
      "execution_count": null,
      "outputs": [
        {
          "output_type": "stream",
          "name": "stdout",
          "text": [
            "/usr/local/lib/python3.11/dist-packages/torch/utils/cpp_extension.py:2059: UserWarning: TORCH_CUDA_ARCH_LIST is not set, all archs for visible cards are included for compilation. \n",
            "If this is not desired, please set os.environ['TORCH_CUDA_ARCH_LIST'].\n",
            "  warnings.warn(\n",
            "Traceback (most recent call last):\n",
            "  File \"/usr/local/lib/python3.11/dist-packages/torch/utils/cpp_extension.py\", line 2209, in _run_ninja_build\n",
            "    subprocess.run(\n",
            "  File \"/usr/lib/python3.11/subprocess.py\", line 571, in run\n",
            "    raise CalledProcessError(retcode, process.args,\n",
            "subprocess.CalledProcessError: Command '['ninja', '-v']' returned non-zero exit status 1.\n",
            "\n",
            "The above exception was the direct cause of the following exception:\n",
            "\n",
            "Traceback (most recent call last):\n",
            "  File \"/content/VITON-HD/U-2-Net/Self-Correction-Human-Parsing/simple_extractor.py\", line 24, in <module>\n",
            "    import networks\n",
            "  File \"/content/VITON-HD/U-2-Net/Self-Correction-Human-Parsing/networks/__init__.py\", line 3, in <module>\n",
            "    from networks.AugmentCE2P import resnet101\n",
            "  File \"/content/VITON-HD/U-2-Net/Self-Correction-Human-Parsing/networks/AugmentCE2P.py\", line 21, in <module>\n",
            "    from modules import InPlaceABNSync\n",
            "  File \"/content/VITON-HD/U-2-Net/Self-Correction-Human-Parsing/modules/__init__.py\", line 1, in <module>\n",
            "    from .bn import ABN, InPlaceABN, InPlaceABNSync\n",
            "  File \"/content/VITON-HD/U-2-Net/Self-Correction-Human-Parsing/modules/bn.py\", line 10, in <module>\n",
            "    from .functions import *\n",
            "  File \"/content/VITON-HD/U-2-Net/Self-Correction-Human-Parsing/modules/functions.py\", line 10, in <module>\n",
            "    _backend = load(name=\"inplace_abn\",\n",
            "               ^^^^^^^^^^^^^^^^^^^^^^^^\n",
            "  File \"/usr/local/lib/python3.11/dist-packages/torch/utils/cpp_extension.py\", line 1380, in load\n",
            "    return _jit_compile(\n",
            "           ^^^^^^^^^^^^^\n",
            "  File \"/usr/local/lib/python3.11/dist-packages/torch/utils/cpp_extension.py\", line 1798, in _jit_compile\n",
            "    _write_ninja_file_and_build_library(\n",
            "  File \"/usr/local/lib/python3.11/dist-packages/torch/utils/cpp_extension.py\", line 1926, in _write_ninja_file_and_build_library\n",
            "    _run_ninja_build(\n",
            "  File \"/usr/local/lib/python3.11/dist-packages/torch/utils/cpp_extension.py\", line 2225, in _run_ninja_build\n",
            "    raise RuntimeError(message) from e\n",
            "RuntimeError: Error building extension 'inplace_abn': [1/4] c++ -MMD -MF inplace_abn_cpu.o.d -DTORCH_EXTENSION_NAME=inplace_abn -DTORCH_API_INCLUDE_EXTENSION_H -DPYBIND11_COMPILER_TYPE=\\\"_gcc\\\" -DPYBIND11_STDLIB=\\\"_libstdcpp\\\" -DPYBIND11_BUILD_ABI=\\\"_cxxabi1011\\\" -isystem /usr/local/lib/python3.11/dist-packages/torch/include -isystem /usr/local/lib/python3.11/dist-packages/torch/include/torch/csrc/api/include -isystem /usr/local/lib/python3.11/dist-packages/torch/include/TH -isystem /usr/local/lib/python3.11/dist-packages/torch/include/THC -isystem /usr/local/cuda/include -isystem /usr/include/python3.11 -D_GLIBCXX_USE_CXX11_ABI=0 -fPIC -std=c++17 -O3 -c /content/VITON-HD/U-2-Net/Self-Correction-Human-Parsing/modules/src/inplace_abn_cpu.cpp -o inplace_abn_cpu.o \n",
            "FAILED: inplace_abn_cpu.o \n",
            "c++ -MMD -MF inplace_abn_cpu.o.d -DTORCH_EXTENSION_NAME=inplace_abn -DTORCH_API_INCLUDE_EXTENSION_H -DPYBIND11_COMPILER_TYPE=\\\"_gcc\\\" -DPYBIND11_STDLIB=\\\"_libstdcpp\\\" -DPYBIND11_BUILD_ABI=\\\"_cxxabi1011\\\" -isystem /usr/local/lib/python3.11/dist-packages/torch/include -isystem /usr/local/lib/python3.11/dist-packages/torch/include/torch/csrc/api/include -isystem /usr/local/lib/python3.11/dist-packages/torch/include/TH -isystem /usr/local/lib/python3.11/dist-packages/torch/include/THC -isystem /usr/local/cuda/include -isystem /usr/include/python3.11 -D_GLIBCXX_USE_CXX11_ABI=0 -fPIC -std=c++17 -O3 -c /content/VITON-HD/U-2-Net/Self-Correction-Human-Parsing/modules/src/inplace_abn_cpu.cpp -o inplace_abn_cpu.o \n",
            "In file included from /usr/local/lib/python3.11/dist-packages/torch/include/ATen/BlasBackend.h:3,\n",
            "                 from /usr/local/lib/python3.11/dist-packages/torch/include/ATen/Context.h:3,\n",
            "                 from /usr/local/lib/python3.11/dist-packages/torch/include/ATen/ATen.h:7,\n",
            "                 from /content/VITON-HD/U-2-Net/Self-Correction-Human-Parsing/modules/src/inplace_abn_cpu.cpp:1:\n",
            "/content/VITON-HD/U-2-Net/Self-Correction-Human-Parsing/modules/src/inplace_abn_cpu.cpp: In function ‘void leaky_relu_backward_cpu(at::Tensor, at::Tensor, float)’:\n",
            "/content/VITON-HD/U-2-Net/Self-Correction-Human-Parsing/modules/src/utils/checks.h:11:40: warning: ‘at::DeprecatedTypeProperties& at::Tensor::type() const’ is deprecated: Tensor.type() is deprecated. Instead use Tensor.options(), which in many cases (e.g. in a constructor) is a drop-in replacement. If you were using data from type(), that is now available from Tensor itself, so instead of tensor.type().scalar_type(), use tensor.scalar_type() instead and instead of tensor.type().backend() use tensor.device(). [-Wdeprecated-declarations]\n",
            "   11 | #define CHECK_CPU(x) AT_CHECK(!(x).type().is_cuda(), #x \" must be a CPU tensor\")\n",
            "      |                                ~~~~~~~~^~\n",
            "/content/VITON-HD/U-2-Net/Self-Correction-Human-Parsing/modules/src/utils/checks.h:15:28: note: in expansion of macro ‘CHECK_CPU’\n",
            "   15 | #define CHECK_CPU_INPUT(x) CHECK_CPU(x); CHECK_CONTIGUOUS(x)\n",
            "      |                            ^~~~~~~~~\n",
            "/content/VITON-HD/U-2-Net/Self-Correction-Human-Parsing/modules/src/inplace_abn_cpu.cpp:86:3: note: in expansion of macro ‘CHECK_CPU_INPUT’\n",
            "   86 |   CHECK_CPU_INPUT(z);\n",
            "      |   ^~~~~~~~~~~~~~~\n",
            "In file included from /usr/local/lib/python3.11/dist-packages/torch/include/ATen/core/ivalue.h:4,\n",
            "                 from /usr/local/lib/python3.11/dist-packages/torch/include/ATen/core/List_inl.h:4,\n",
            "                 from /usr/local/lib/python3.11/dist-packages/torch/include/ATen/core/List.h:491,\n",
            "                 from /usr/local/lib/python3.11/dist-packages/torch/include/ATen/core/IListRef_inl.h:3,\n",
            "                 from /usr/local/lib/python3.11/dist-packages/torch/include/ATen/core/IListRef.h:631,\n",
            "                 from /usr/local/lib/python3.11/dist-packages/torch/include/ATen/DeviceGuard.h:3,\n",
            "                 from /usr/local/lib/python3.11/dist-packages/torch/include/ATen/ATen.h:9,\n",
            "                 from /content/VITON-HD/U-2-Net/Self-Correction-Human-Parsing/modules/src/inplace_abn_cpu.cpp:1:\n",
            "/usr/local/lib/python3.11/dist-packages/torch/include/ATen/core/TensorBody.h:225:30: note: declared here\n",
            "  225 |   DeprecatedTypeProperties & type() const {\n",
            "      |                              ^~~~\n",
            "In file included from /usr/local/lib/python3.11/dist-packages/torch/include/ATen/BlasBackend.h:3,\n",
            "                 from /usr/local/lib/python3.11/dist-packages/torch/include/ATen/Context.h:3,\n",
            "                 from /usr/local/lib/python3.11/dist-packages/torch/include/ATen/ATen.h:7,\n",
            "                 from /content/VITON-HD/U-2-Net/Self-Correction-Human-Parsing/modules/src/inplace_abn_cpu.cpp:1:\n",
            "/content/VITON-HD/U-2-Net/Self-Correction-Human-Parsing/modules/src/utils/checks.h:11:40: warning: ‘at::DeprecatedTypeProperties& at::Tensor::type() const’ is deprecated: Tensor.type() is deprecated. Instead use Tensor.options(), which in many cases (e.g. in a constructor) is a drop-in replacement. If you were using data from type(), that is now available from Tensor itself, so instead of tensor.type().scalar_type(), use tensor.scalar_type() instead and instead of tensor.type().backend() use tensor.device(). [-Wdeprecated-declarations]\n",
            "   11 | #define CHECK_CPU(x) AT_CHECK(!(x).type().is_cuda(), #x \" must be a CPU tensor\")\n",
            "      |                                ~~~~~~~~^~\n",
            "/content/VITON-HD/U-2-Net/Self-Correction-Human-Parsing/modules/src/utils/checks.h:15:28: note: in expansion of macro ‘CHECK_CPU’\n",
            "   15 | #define CHECK_CPU_INPUT(x) CHECK_CPU(x); CHECK_CONTIGUOUS(x)\n",
            "      |                            ^~~~~~~~~\n",
            "/content/VITON-HD/U-2-Net/Self-Correction-Human-Parsing/modules/src/inplace_abn_cpu.cpp:87:3: note: in expansion of macro ‘CHECK_CPU_INPUT’\n",
            "   87 |   CHECK_CPU_INPUT(dz);\n",
            "      |   ^~~~~~~~~~~~~~~\n",
            "In file included from /usr/local/lib/python3.11/dist-packages/torch/include/ATen/core/ivalue.h:4,\n",
            "                 from /usr/local/lib/python3.11/dist-packages/torch/include/ATen/core/List_inl.h:4,\n",
            "                 from /usr/local/lib/python3.11/dist-packages/torch/include/ATen/core/List.h:491,\n",
            "                 from /usr/local/lib/python3.11/dist-packages/torch/include/ATen/core/IListRef_inl.h:3,\n",
            "                 from /usr/local/lib/python3.11/dist-packages/torch/include/ATen/core/IListRef.h:631,\n",
            "                 from /usr/local/lib/python3.11/dist-packages/torch/include/ATen/DeviceGuard.h:3,\n",
            "                 from /usr/local/lib/python3.11/dist-packages/torch/include/ATen/ATen.h:9,\n",
            "                 from /content/VITON-HD/U-2-Net/Self-Correction-Human-Parsing/modules/src/inplace_abn_cpu.cpp:1:\n",
            "/usr/local/lib/python3.11/dist-packages/torch/include/ATen/core/TensorBody.h:225:30: note: declared here\n",
            "  225 |   DeprecatedTypeProperties & type() const {\n",
            "      |                              ^~~~\n",
            "In file included from /usr/local/lib/python3.11/dist-packages/torch/include/ATen/ATen.h:11,\n",
            "                 from /content/VITON-HD/U-2-Net/Self-Correction-Human-Parsing/modules/src/inplace_abn_cpu.cpp:1:\n",
            "/content/VITON-HD/U-2-Net/Self-Correction-Human-Parsing/modules/src/inplace_abn_cpu.cpp: In lambda function:\n",
            "/content/VITON-HD/U-2-Net/Self-Correction-Human-Parsing/modules/src/inplace_abn_cpu.cpp:89:36: warning: ‘at::DeprecatedTypeProperties& at::Tensor::type() const’ is deprecated: Tensor.type() is deprecated. Instead use Tensor.options(), which in many cases (e.g. in a constructor) is a drop-in replacement. If you were using data from type(), that is now available from Tensor itself, so instead of tensor.type().scalar_type(), use tensor.scalar_type() instead and instead of tensor.type().backend() use tensor.device(). [-Wdeprecated-declarations]\n",
            "   89 |   AT_DISPATCH_FLOATING_TYPES(z.type(), \"leaky_relu_backward_cpu\", ([&] {\n",
            "      |                              ~~~~~~^~\n",
            "In file included from /usr/local/lib/python3.11/dist-packages/torch/include/ATen/core/ivalue.h:4,\n",
            "                 from /usr/local/lib/python3.11/dist-packages/torch/include/ATen/core/List_inl.h:4,\n",
            "                 from /usr/local/lib/python3.11/dist-packages/torch/include/ATen/core/List.h:491,\n",
            "                 from /usr/local/lib/python3.11/dist-packages/torch/include/ATen/core/IListRef_inl.h:3,\n",
            "                 from /usr/local/lib/python3.11/dist-packages/torch/include/ATen/core/IListRef.h:631,\n",
            "                 from /usr/local/lib/python3.11/dist-packages/torch/include/ATen/DeviceGuard.h:3,\n",
            "                 from /usr/local/lib/python3.11/dist-packages/torch/include/ATen/ATen.h:9,\n",
            "                 from /content/VITON-HD/U-2-Net/Self-Correction-Human-Parsing/modules/src/inplace_abn_cpu.cpp:1:\n",
            "/usr/local/lib/python3.11/dist-packages/torch/include/ATen/core/TensorBody.h:225:30: note: declared here\n",
            "  225 |   DeprecatedTypeProperties & type() const {\n",
            "      |                              ^~~~\n",
            "In file included from /usr/local/lib/python3.11/dist-packages/torch/include/ATen/ATen.h:11,\n",
            "                 from /content/VITON-HD/U-2-Net/Self-Correction-Human-Parsing/modules/src/inplace_abn_cpu.cpp:1:\n",
            "/content/VITON-HD/U-2-Net/Self-Correction-Human-Parsing/modules/src/inplace_abn_cpu.cpp:89:3: error: cannot convert ‘const at::DeprecatedTypeProperties’ to ‘c10::ScalarType’\n",
            "   89 |   AT_DISPATCH_FLOATING_TYPES(z.type(), \"leaky_relu_backward_cpu\", ([&] {\n",
            "      |   ^~~~~~~~~~~~~~~~~~~~~~~~~~\n",
            "      |   |\n",
            "      |   const at::DeprecatedTypeProperties\n",
            "/usr/local/lib/python3.11/dist-packages/torch/include/ATen/Dispatch.h:101:50: note:   initializing argument 1 of ‘c10::ScalarType detail::scalar_type(c10::ScalarType)’\n",
            "  101 | inline at::ScalarType scalar_type(at::ScalarType s) {\n",
            "      |                                   ~~~~~~~~~~~~~~~^\n",
            "/content/VITON-HD/U-2-Net/Self-Correction-Human-Parsing/modules/src/inplace_abn_cpu.cpp: In lambda function:\n",
            "/content/VITON-HD/U-2-Net/Self-Correction-Human-Parsing/modules/src/inplace_abn_cpu.cpp:91:32: warning: ‘T* at::Tensor::data() const [with T = double]’ is deprecated: Tensor.data<T>() is deprecated. Please use Tensor.data_ptr<T>() instead. [-Wdeprecated-declarations]\n",
            "   91 |     auto *_z = z.data<scalar_t>();\n",
            "      |                ~~~~~~~~~~~~~~~~^~\n",
            "In file included from /usr/local/lib/python3.11/dist-packages/torch/include/ATen/core/ivalue.h:4,\n",
            "                 from /usr/local/lib/python3.11/dist-packages/torch/include/ATen/core/List_inl.h:4,\n",
            "                 from /usr/local/lib/python3.11/dist-packages/torch/include/ATen/core/List.h:491,\n",
            "                 from /usr/local/lib/python3.11/dist-packages/torch/include/ATen/core/IListRef_inl.h:3,\n",
            "                 from /usr/local/lib/python3.11/dist-packages/torch/include/ATen/core/IListRef.h:631,\n",
            "                 from /usr/local/lib/python3.11/dist-packages/torch/include/ATen/DeviceGuard.h:3,\n",
            "                 from /usr/local/lib/python3.11/dist-packages/torch/include/ATen/ATen.h:9,\n",
            "                 from /content/VITON-HD/U-2-Net/Self-Correction-Human-Parsing/modules/src/inplace_abn_cpu.cpp:1:\n",
            "/usr/local/lib/python3.11/dist-packages/torch/include/ATen/core/TensorBody.h:247:7: note: declared here\n",
            "  247 |   T * data() const {\n",
            "      |       ^~~~\n",
            "In file included from /usr/local/lib/python3.11/dist-packages/torch/include/ATen/ATen.h:11,\n",
            "                 from /content/VITON-HD/U-2-Net/Self-Correction-Human-Parsing/modules/src/inplace_abn_cpu.cpp:1:\n",
            "/content/VITON-HD/U-2-Net/Self-Correction-Human-Parsing/modules/src/inplace_abn_cpu.cpp:92:34: warning: ‘T* at::Tensor::data() const [with T = double]’ is deprecated: Tensor.data<T>() is deprecated. Please use Tensor.data_ptr<T>() instead. [-Wdeprecated-declarations]\n",
            "   92 |     auto *_dz = dz.data<scalar_t>();\n",
            "      |                 ~~~~~~~~~~~~~~~~~^~\n",
            "In file included from /usr/local/lib/python3.11/dist-packages/torch/include/ATen/core/ivalue.h:4,\n",
            "                 from /usr/local/lib/python3.11/dist-packages/torch/include/ATen/core/List_inl.h:4,\n",
            "                 from /usr/local/lib/python3.11/dist-packages/torch/include/ATen/core/List.h:491,\n",
            "                 from /usr/local/lib/python3.11/dist-packages/torch/include/ATen/core/IListRef_inl.h:3,\n",
            "                 from /usr/local/lib/python3.11/dist-packages/torch/include/ATen/core/IListRef.h:631,\n",
            "                 from /usr/local/lib/python3.11/dist-packages/torch/include/ATen/DeviceGuard.h:3,\n",
            "                 from /usr/local/lib/python3.11/dist-packages/torch/include/ATen/ATen.h:9,\n",
            "                 from /content/VITON-HD/U-2-Net/Self-Correction-Human-Parsing/modules/src/inplace_abn_cpu.cpp:1:\n",
            "/usr/local/lib/python3.11/dist-packages/torch/include/ATen/core/TensorBody.h:247:7: note: declared here\n",
            "  247 |   T * data() const {\n",
            "      |       ^~~~\n",
            "In file included from /usr/local/lib/python3.11/dist-packages/torch/include/ATen/ATen.h:11,\n",
            "                 from /content/VITON-HD/U-2-Net/Self-Correction-Human-Parsing/modules/src/inplace_abn_cpu.cpp:1:\n",
            "/content/VITON-HD/U-2-Net/Self-Correction-Human-Parsing/modules/src/inplace_abn_cpu.cpp: In lambda function:\n",
            "/content/VITON-HD/U-2-Net/Self-Correction-Human-Parsing/modules/src/inplace_abn_cpu.cpp:91:32: warning: ‘T* at::Tensor::data() const [with T = float]’ is deprecated: Tensor.data<T>() is deprecated. Please use Tensor.data_ptr<T>() instead. [-Wdeprecated-declarations]\n",
            "   91 |     auto *_z = z.data<scalar_t>();\n",
            "      |                ~~~~~~~~~~~~~~~~^~\n",
            "In file included from /usr/local/lib/python3.11/dist-packages/torch/include/ATen/core/ivalue.h:4,\n",
            "                 from /usr/local/lib/python3.11/dist-packages/torch/include/ATen/core/List_inl.h:4,\n",
            "                 from /usr/local/lib/python3.11/dist-packages/torch/include/ATen/core/List.h:491,\n",
            "                 from /usr/local/lib/python3.11/dist-packages/torch/include/ATen/core/IListRef_inl.h:3,\n",
            "                 from /usr/local/lib/python3.11/dist-packages/torch/include/ATen/core/IListRef.h:631,\n",
            "                 from /usr/local/lib/python3.11/dist-packages/torch/include/ATen/DeviceGuard.h:3,\n",
            "                 from /usr/local/lib/python3.11/dist-packages/torch/include/ATen/ATen.h:9,\n",
            "                 from /content/VITON-HD/U-2-Net/Self-Correction-Human-Parsing/modules/src/inplace_abn_cpu.cpp:1:\n",
            "/usr/local/lib/python3.11/dist-packages/torch/include/ATen/core/TensorBody.h:247:7: note: declared here\n",
            "  247 |   T * data() const {\n",
            "      |       ^~~~\n",
            "In file included from /usr/local/lib/python3.11/dist-packages/torch/include/ATen/ATen.h:11,\n",
            "                 from /content/VITON-HD/U-2-Net/Self-Correction-Human-Parsing/modules/src/inplace_abn_cpu.cpp:1:\n",
            "/content/VITON-HD/U-2-Net/Self-Correction-Human-Parsing/modules/src/inplace_abn_cpu.cpp:92:34: warning: ‘T* at::Tensor::data() const [with T = float]’ is deprecated: Tensor.data<T>() is deprecated. Please use Tensor.data_ptr<T>() instead. [-Wdeprecated-declarations]\n",
            "   92 |     auto *_dz = dz.data<scalar_t>();\n",
            "      |                 ~~~~~~~~~~~~~~~~~^~\n",
            "In file included from /usr/local/lib/python3.11/dist-packages/torch/include/ATen/core/ivalue.h:4,\n",
            "                 from /usr/local/lib/python3.11/dist-packages/torch/include/ATen/core/List_inl.h:4,\n",
            "                 from /usr/local/lib/python3.11/dist-packages/torch/include/ATen/core/List.h:491,\n",
            "                 from /usr/local/lib/python3.11/dist-packages/torch/include/ATen/core/IListRef_inl.h:3,\n",
            "                 from /usr/local/lib/python3.11/dist-packages/torch/include/ATen/core/IListRef.h:631,\n",
            "                 from /usr/local/lib/python3.11/dist-packages/torch/include/ATen/DeviceGuard.h:3,\n",
            "                 from /usr/local/lib/python3.11/dist-packages/torch/include/ATen/ATen.h:9,\n",
            "                 from /content/VITON-HD/U-2-Net/Self-Correction-Human-Parsing/modules/src/inplace_abn_cpu.cpp:1:\n",
            "/usr/local/lib/python3.11/dist-packages/torch/include/ATen/core/TensorBody.h:247:7: note: declared here\n",
            "  247 |   T * data() const {\n",
            "      |       ^~~~\n",
            "In file included from /usr/local/lib/python3.11/dist-packages/torch/include/ATen/BlasBackend.h:3,\n",
            "                 from /usr/local/lib/python3.11/dist-packages/torch/include/ATen/Context.h:3,\n",
            "                 from /usr/local/lib/python3.11/dist-packages/torch/include/ATen/ATen.h:7,\n",
            "                 from /content/VITON-HD/U-2-Net/Self-Correction-Human-Parsing/modules/src/inplace_abn_cpu.cpp:1:\n",
            "/content/VITON-HD/U-2-Net/Self-Correction-Human-Parsing/modules/src/inplace_abn_cpu.cpp: In function ‘void elu_backward_cpu(at::Tensor, at::Tensor)’:\n",
            "/content/VITON-HD/U-2-Net/Self-Correction-Human-Parsing/modules/src/utils/checks.h:11:40: warning: ‘at::DeprecatedTypeProperties& at::Tensor::type() const’ is deprecated: Tensor.type() is deprecated. Instead use Tensor.options(), which in many cases (e.g. in a constructor) is a drop-in replacement. If you were using data from type(), that is now available from Tensor itself, so instead of tensor.type().scalar_type(), use tensor.scalar_type() instead and instead of tensor.type().backend() use tensor.device(). [-Wdeprecated-declarations]\n",
            "   11 | #define CHECK_CPU(x) AT_CHECK(!(x).type().is_cuda(), #x \" must be a CPU tensor\")\n",
            "      |                                ~~~~~~~~^~\n",
            "/content/VITON-HD/U-2-Net/Self-Correction-Human-Parsing/modules/src/utils/checks.h:15:28: note: in expansion of macro ‘CHECK_CPU’\n",
            "   15 | #define CHECK_CPU_INPUT(x) CHECK_CPU(x); CHECK_CONTIGUOUS(x)\n",
            "      |                            ^~~~~~~~~\n",
            "/content/VITON-HD/U-2-Net/Self-Correction-Human-Parsing/modules/src/inplace_abn_cpu.cpp:104:3: note: in expansion of macro ‘CHECK_CPU_INPUT’\n",
            "  104 |   CHECK_CPU_INPUT(z);\n",
            "      |   ^~~~~~~~~~~~~~~\n",
            "In file included from /usr/local/lib/python3.11/dist-packages/torch/include/ATen/core/ivalue.h:4,\n",
            "                 from /usr/local/lib/python3.11/dist-packages/torch/include/ATen/core/List_inl.h:4,\n",
            "                 from /usr/local/lib/python3.11/dist-packages/torch/include/ATen/core/List.h:491,\n",
            "                 from /usr/local/lib/python3.11/dist-packages/torch/include/ATen/core/IListRef_inl.h:3,\n",
            "                 from /usr/local/lib/python3.11/dist-packages/torch/include/ATen/core/IListRef.h:631,\n",
            "                 from /usr/local/lib/python3.11/dist-packages/torch/include/ATen/DeviceGuard.h:3,\n",
            "                 from /usr/local/lib/python3.11/dist-packages/torch/include/ATen/ATen.h:9,\n",
            "                 from /content/VITON-HD/U-2-Net/Self-Correction-Human-Parsing/modules/src/inplace_abn_cpu.cpp:1:\n",
            "/usr/local/lib/python3.11/dist-packages/torch/include/ATen/core/TensorBody.h:225:30: note: declared here\n",
            "  225 |   DeprecatedTypeProperties & type() const {\n",
            "      |                              ^~~~\n",
            "In file included from /usr/local/lib/python3.11/dist-packages/torch/include/ATen/BlasBackend.h:3,\n",
            "                 from /usr/local/lib/python3.11/dist-packages/torch/include/ATen/Context.h:3,\n",
            "                 from /usr/local/lib/python3.11/dist-packages/torch/include/ATen/ATen.h:7,\n",
            "                 from /content/VITON-HD/U-2-Net/Self-Correction-Human-Parsing/modules/src/inplace_abn_cpu.cpp:1:\n",
            "/content/VITON-HD/U-2-Net/Self-Correction-Human-Parsing/modules/src/utils/checks.h:11:40: warning: ‘at::DeprecatedTypeProperties& at::Tensor::type() const’ is deprecated: Tensor.type() is deprecated. Instead use Tensor.options(), which in many cases (e.g. in a constructor) is a drop-in replacement. If you were using data from type(), that is now available from Tensor itself, so instead of tensor.type().scalar_type(), use tensor.scalar_type() instead and instead of tensor.type().backend() use tensor.device(). [-Wdeprecated-declarations]\n",
            "   11 | #define CHECK_CPU(x) AT_CHECK(!(x).type().is_cuda(), #x \" must be a CPU tensor\")\n",
            "      |                                ~~~~~~~~^~\n",
            "/content/VITON-HD/U-2-Net/Self-Correction-Human-Parsing/modules/src/utils/checks.h:15:28: note: in expansion of macro ‘CHECK_CPU’\n",
            "   15 | #define CHECK_CPU_INPUT(x) CHECK_CPU(x); CHECK_CONTIGUOUS(x)\n",
            "      |                            ^~~~~~~~~\n",
            "/content/VITON-HD/U-2-Net/Self-Correction-Human-Parsing/modules/src/inplace_abn_cpu.cpp:105:3: note: in expansion of macro ‘CHECK_CPU_INPUT’\n",
            "  105 |   CHECK_CPU_INPUT(dz);\n",
            "      |   ^~~~~~~~~~~~~~~\n",
            "In file included from /usr/local/lib/python3.11/dist-packages/torch/include/ATen/core/ivalue.h:4,\n",
            "                 from /usr/local/lib/python3.11/dist-packages/torch/include/ATen/core/List_inl.h:4,\n",
            "                 from /usr/local/lib/python3.11/dist-packages/torch/include/ATen/core/List.h:491,\n",
            "                 from /usr/local/lib/python3.11/dist-packages/torch/include/ATen/core/IListRef_inl.h:3,\n",
            "                 from /usr/local/lib/python3.11/dist-packages/torch/include/ATen/core/IListRef.h:631,\n",
            "                 from /usr/local/lib/python3.11/dist-packages/torch/include/ATen/DeviceGuard.h:3,\n",
            "                 from /usr/local/lib/python3.11/dist-packages/torch/include/ATen/ATen.h:9,\n",
            "                 from /content/VITON-HD/U-2-Net/Self-Correction-Human-Parsing/modules/src/inplace_abn_cpu.cpp:1:\n",
            "/usr/local/lib/python3.11/dist-packages/torch/include/ATen/core/TensorBody.h:225:30: note: declared here\n",
            "  225 |   DeprecatedTypeProperties & type() const {\n",
            "      |                              ^~~~\n",
            "In file included from /usr/local/lib/python3.11/dist-packages/torch/include/ATen/ATen.h:11,\n",
            "                 from /content/VITON-HD/U-2-Net/Self-Correction-Human-Parsing/modules/src/inplace_abn_cpu.cpp:1:\n",
            "/content/VITON-HD/U-2-Net/Self-Correction-Human-Parsing/modules/src/inplace_abn_cpu.cpp: In lambda function:\n",
            "/content/VITON-HD/U-2-Net/Self-Correction-Human-Parsing/modules/src/inplace_abn_cpu.cpp:107:36: warning: ‘at::DeprecatedTypeProperties& at::Tensor::type() const’ is deprecated: Tensor.type() is deprecated. Instead use Tensor.options(), which in many cases (e.g. in a constructor) is a drop-in replacement. If you were using data from type(), that is now available from Tensor itself, so instead of tensor.type().scalar_type(), use tensor.scalar_type() instead and instead of tensor.type().backend() use tensor.device(). [-Wdeprecated-declarations]\n",
            "  107 |   AT_DISPATCH_FLOATING_TYPES(z.type(), \"elu_backward_cpu\", ([&] {\n",
            "      |                              ~~~~~~^~\n",
            "In file included from /usr/local/lib/python3.11/dist-packages/torch/include/ATen/core/ivalue.h:4,\n",
            "                 from /usr/local/lib/python3.11/dist-packages/torch/include/ATen/core/List_inl.h:4,\n",
            "                 from /usr/local/lib/python3.11/dist-packages/torch/include/ATen/core/List.h:491,\n",
            "                 from /usr/local/lib/python3.11/dist-packages/torch/include/ATen/core/IListRef_inl.h:3,\n",
            "                 from /usr/local/lib/python3.11/dist-packages/torch/include/ATen/core/IListRef.h:631,\n",
            "                 from /usr/local/lib/python3.11/dist-packages/torch/include/ATen/DeviceGuard.h:3,\n",
            "                 from /usr/local/lib/python3.11/dist-packages/torch/include/ATen/ATen.h:9,\n",
            "                 from /content/VITON-HD/U-2-Net/Self-Correction-Human-Parsing/modules/src/inplace_abn_cpu.cpp:1:\n",
            "/usr/local/lib/python3.11/dist-packages/torch/include/ATen/core/TensorBody.h:225:30: note: declared here\n",
            "  225 |   DeprecatedTypeProperties & type() const {\n",
            "      |                              ^~~~\n",
            "In file included from /usr/local/lib/python3.11/dist-packages/torch/include/ATen/ATen.h:11,\n",
            "                 from /content/VITON-HD/U-2-Net/Self-Correction-Human-Parsing/modules/src/inplace_abn_cpu.cpp:1:\n",
            "/content/VITON-HD/U-2-Net/Self-Correction-Human-Parsing/modules/src/inplace_abn_cpu.cpp:107:3: error: cannot convert ‘const at::DeprecatedTypeProperties’ to ‘c10::ScalarType’\n",
            "  107 |   AT_DISPATCH_FLOATING_TYPES(z.type(), \"elu_backward_cpu\", ([&] {\n",
            "      |   ^~~~~~~~~~~~~~~~~~~~~~~~~~\n",
            "      |   |\n",
            "      |   const at::DeprecatedTypeProperties\n",
            "/usr/local/lib/python3.11/dist-packages/torch/include/ATen/Dispatch.h:101:50: note:   initializing argument 1 of ‘c10::ScalarType detail::scalar_type(c10::ScalarType)’\n",
            "  101 | inline at::ScalarType scalar_type(at::ScalarType s) {\n",
            "      |                                   ~~~~~~~~~~~~~~~^\n",
            "/content/VITON-HD/U-2-Net/Self-Correction-Human-Parsing/modules/src/inplace_abn_cpu.cpp: In lambda function:\n",
            "/content/VITON-HD/U-2-Net/Self-Correction-Human-Parsing/modules/src/inplace_abn_cpu.cpp:109:32: warning: ‘T* at::Tensor::data() const [with T = double]’ is deprecated: Tensor.data<T>() is deprecated. Please use Tensor.data_ptr<T>() instead. [-Wdeprecated-declarations]\n",
            "  109 |     auto *_z = z.data<scalar_t>();\n",
            "      |                ~~~~~~~~~~~~~~~~^~\n",
            "In file included from /usr/local/lib/python3.11/dist-packages/torch/include/ATen/core/ivalue.h:4,\n",
            "                 from /usr/local/lib/python3.11/dist-packages/torch/include/ATen/core/List_inl.h:4,\n",
            "                 from /usr/local/lib/python3.11/dist-packages/torch/include/ATen/core/List.h:491,\n",
            "                 from /usr/local/lib/python3.11/dist-packages/torch/include/ATen/core/IListRef_inl.h:3,\n",
            "                 from /usr/local/lib/python3.11/dist-packages/torch/include/ATen/core/IListRef.h:631,\n",
            "                 from /usr/local/lib/python3.11/dist-packages/torch/include/ATen/DeviceGuard.h:3,\n",
            "                 from /usr/local/lib/python3.11/dist-packages/torch/include/ATen/ATen.h:9,\n",
            "                 from /content/VITON-HD/U-2-Net/Self-Correction-Human-Parsing/modules/src/inplace_abn_cpu.cpp:1:\n",
            "/usr/local/lib/python3.11/dist-packages/torch/include/ATen/core/TensorBody.h:247:7: note: declared here\n",
            "  247 |   T * data() const {\n",
            "      |       ^~~~\n",
            "In file included from /usr/local/lib/python3.11/dist-packages/torch/include/ATen/ATen.h:11,\n",
            "                 from /content/VITON-HD/U-2-Net/Self-Correction-Human-Parsing/modules/src/inplace_abn_cpu.cpp:1:\n",
            "/content/VITON-HD/U-2-Net/Self-Correction-Human-Parsing/modules/src/inplace_abn_cpu.cpp:110:34: warning: ‘T* at::Tensor::data() const [with T = double]’ is deprecated: Tensor.data<T>() is deprecated. Please use Tensor.data_ptr<T>() instead. [-Wdeprecated-declarations]\n",
            "  110 |     auto *_dz = dz.data<scalar_t>();\n",
            "      |                 ~~~~~~~~~~~~~~~~~^~\n",
            "In file included from /usr/local/lib/python3.11/dist-packages/torch/include/ATen/core/ivalue.h:4,\n",
            "                 from /usr/local/lib/python3.11/dist-packages/torch/include/ATen/core/List_inl.h:4,\n",
            "                 from /usr/local/lib/python3.11/dist-packages/torch/include/ATen/core/List.h:491,\n",
            "                 from /usr/local/lib/python3.11/dist-packages/torch/include/ATen/core/IListRef_inl.h:3,\n",
            "                 from /usr/local/lib/python3.11/dist-packages/torch/include/ATen/core/IListRef.h:631,\n",
            "                 from /usr/local/lib/python3.11/dist-packages/torch/include/ATen/DeviceGuard.h:3,\n",
            "                 from /usr/local/lib/python3.11/dist-packages/torch/include/ATen/ATen.h:9,\n",
            "                 from /content/VITON-HD/U-2-Net/Self-Correction-Human-Parsing/modules/src/inplace_abn_cpu.cpp:1:\n",
            "/usr/local/lib/python3.11/dist-packages/torch/include/ATen/core/TensorBody.h:247:7: note: declared here\n",
            "  247 |   T * data() const {\n",
            "      |       ^~~~\n",
            "In file included from /usr/local/lib/python3.11/dist-packages/torch/include/ATen/ATen.h:11,\n",
            "                 from /content/VITON-HD/U-2-Net/Self-Correction-Human-Parsing/modules/src/inplace_abn_cpu.cpp:1:\n",
            "/content/VITON-HD/U-2-Net/Self-Correction-Human-Parsing/modules/src/inplace_abn_cpu.cpp: In lambda function:\n",
            "/content/VITON-HD/U-2-Net/Self-Correction-Human-Parsing/modules/src/inplace_abn_cpu.cpp:109:32: warning: ‘T* at::Tensor::data() const [with T = float]’ is deprecated: Tensor.data<T>() is deprecated. Please use Tensor.data_ptr<T>() instead. [-Wdeprecated-declarations]\n",
            "  109 |     auto *_z = z.data<scalar_t>();\n",
            "      |                ~~~~~~~~~~~~~~~~^~\n",
            "In file included from /usr/local/lib/python3.11/dist-packages/torch/include/ATen/core/ivalue.h:4,\n",
            "                 from /usr/local/lib/python3.11/dist-packages/torch/include/ATen/core/List_inl.h:4,\n",
            "                 from /usr/local/lib/python3.11/dist-packages/torch/include/ATen/core/List.h:491,\n",
            "                 from /usr/local/lib/python3.11/dist-packages/torch/include/ATen/core/IListRef_inl.h:3,\n",
            "                 from /usr/local/lib/python3.11/dist-packages/torch/include/ATen/core/IListRef.h:631,\n",
            "                 from /usr/local/lib/python3.11/dist-packages/torch/include/ATen/DeviceGuard.h:3,\n",
            "                 from /usr/local/lib/python3.11/dist-packages/torch/include/ATen/ATen.h:9,\n",
            "                 from /content/VITON-HD/U-2-Net/Self-Correction-Human-Parsing/modules/src/inplace_abn_cpu.cpp:1:\n",
            "/usr/local/lib/python3.11/dist-packages/torch/include/ATen/core/TensorBody.h:247:7: note: declared here\n",
            "  247 |   T * data() const {\n",
            "      |       ^~~~\n",
            "In file included from /usr/local/lib/python3.11/dist-packages/torch/include/ATen/ATen.h:11,\n",
            "                 from /content/VITON-HD/U-2-Net/Self-Correction-Human-Parsing/modules/src/inplace_abn_cpu.cpp:1:\n",
            "/content/VITON-HD/U-2-Net/Self-Correction-Human-Parsing/modules/src/inplace_abn_cpu.cpp:110:34: warning: ‘T* at::Tensor::data() const [with T = float]’ is deprecated: Tensor.data<T>() is deprecated. Please use Tensor.data_ptr<T>() instead. [-Wdeprecated-declarations]\n",
            "  110 |     auto *_dz = dz.data<scalar_t>();\n",
            "      |                 ~~~~~~~~~~~~~~~~~^~\n",
            "In file included from /usr/local/lib/python3.11/dist-packages/torch/include/ATen/core/ivalue.h:4,\n",
            "                 from /usr/local/lib/python3.11/dist-packages/torch/include/ATen/core/List_inl.h:4,\n",
            "                 from /usr/local/lib/python3.11/dist-packages/torch/include/ATen/core/List.h:491,\n",
            "                 from /usr/local/lib/python3.11/dist-packages/torch/include/ATen/core/IListRef_inl.h:3,\n",
            "                 from /usr/local/lib/python3.11/dist-packages/torch/include/ATen/core/IListRef.h:631,\n",
            "                 from /usr/local/lib/python3.11/dist-packages/torch/include/ATen/DeviceGuard.h:3,\n",
            "                 from /usr/local/lib/python3.11/dist-packages/torch/include/ATen/ATen.h:9,\n",
            "                 from /content/VITON-HD/U-2-Net/Self-Correction-Human-Parsing/modules/src/inplace_abn_cpu.cpp:1:\n",
            "/usr/local/lib/python3.11/dist-packages/torch/include/ATen/core/TensorBody.h:247:7: note: declared here\n",
            "  247 |   T * data() const {\n",
            "      |       ^~~~\n",
            "[2/4] /usr/local/cuda/bin/nvcc --generate-dependencies-with-compile --dependency-output inplace_abn_cuda.cuda.o.d -DTORCH_EXTENSION_NAME=inplace_abn -DTORCH_API_INCLUDE_EXTENSION_H -DPYBIND11_COMPILER_TYPE=\\\"_gcc\\\" -DPYBIND11_STDLIB=\\\"_libstdcpp\\\" -DPYBIND11_BUILD_ABI=\\\"_cxxabi1011\\\" -isystem /usr/local/lib/python3.11/dist-packages/torch/include -isystem /usr/local/lib/python3.11/dist-packages/torch/include/torch/csrc/api/include -isystem /usr/local/lib/python3.11/dist-packages/torch/include/TH -isystem /usr/local/lib/python3.11/dist-packages/torch/include/THC -isystem /usr/local/cuda/include -isystem /usr/include/python3.11 -D_GLIBCXX_USE_CXX11_ABI=0 -D__CUDA_NO_HALF_OPERATORS__ -D__CUDA_NO_HALF_CONVERSIONS__ -D__CUDA_NO_BFLOAT16_CONVERSIONS__ -D__CUDA_NO_HALF2_OPERATORS__ --expt-relaxed-constexpr -gencode=arch=compute_75,code=compute_75 -gencode=arch=compute_75,code=sm_75 --compiler-options '-fPIC' --expt-extended-lambda -std=c++17 -c /content/VITON-HD/U-2-Net/Self-Correction-Human-Parsing/modules/src/inplace_abn_cuda.cu -o inplace_abn_cuda.cuda.o \n",
            "FAILED: inplace_abn_cuda.cuda.o \n",
            "/usr/local/cuda/bin/nvcc --generate-dependencies-with-compile --dependency-output inplace_abn_cuda.cuda.o.d -DTORCH_EXTENSION_NAME=inplace_abn -DTORCH_API_INCLUDE_EXTENSION_H -DPYBIND11_COMPILER_TYPE=\\\"_gcc\\\" -DPYBIND11_STDLIB=\\\"_libstdcpp\\\" -DPYBIND11_BUILD_ABI=\\\"_cxxabi1011\\\" -isystem /usr/local/lib/python3.11/dist-packages/torch/include -isystem /usr/local/lib/python3.11/dist-packages/torch/include/torch/csrc/api/include -isystem /usr/local/lib/python3.11/dist-packages/torch/include/TH -isystem /usr/local/lib/python3.11/dist-packages/torch/include/THC -isystem /usr/local/cuda/include -isystem /usr/include/python3.11 -D_GLIBCXX_USE_CXX11_ABI=0 -D__CUDA_NO_HALF_OPERATORS__ -D__CUDA_NO_HALF_CONVERSIONS__ -D__CUDA_NO_BFLOAT16_CONVERSIONS__ -D__CUDA_NO_HALF2_OPERATORS__ --expt-relaxed-constexpr -gencode=arch=compute_75,code=compute_75 -gencode=arch=compute_75,code=sm_75 --compiler-options '-fPIC' --expt-extended-lambda -std=c++17 -c /content/VITON-HD/U-2-Net/Self-Correction-Human-Parsing/modules/src/inplace_abn_cuda.cu -o inplace_abn_cuda.cuda.o \n",
            "/content/VITON-HD/U-2-Net/Self-Correction-Human-Parsing/modules/src/inplace_abn_cuda.cu(92): error: no suitable conversion function from \"const at::DeprecatedTypeProperties\" to \"c10::ScalarType\" exists\n",
            "   ; at::ScalarType _st = ::detail::scalar_type(the_type); ; switch (_st) { case at::ScalarType::Double: { do { if constexpr (!at::should_include_kernel_dtype( at_dispatch_name, at::ScalarType::Double)) { if (!(false)) { ::c10::detail::torchCheckFail( __func__, \"/content/VITON-HD/U-2-Net/Self-Correction-Human-Parsing/modules/src/inplace_abn_cuda.cu\", static_cast<uint32_t>(92), (::c10::detail::torchCheckMsgImpl( \"Expected \" \"false\" \" to be true, but got false.  \" \"(Could this error message be improved?  If so, \" \"please report an enhancement request to PyTorch.)\", \"dtype '\", toString(at::ScalarType::Double), \"' not selected for kernel tag \", at_dispatch_name))); }; } } while (0); using scalar_t [[maybe_unused]] = c10::impl::ScalarTypeToCPPTypeT<at::ScalarType::Double>; return \n",
            "                                                ^\n",
            "\n",
            "/content/VITON-HD/U-2-Net/Self-Correction-Human-Parsing/modules/src/inplace_abn_cuda.cu(145): error: no suitable conversion function from \"const at::DeprecatedTypeProperties\" to \"c10::ScalarType\" exists\n",
            "   ; at::ScalarType _st = ::detail::scalar_type(the_type); ; switch (_st) { case at::ScalarType::Double: { do { if constexpr (!at::should_include_kernel_dtype( at_dispatch_name, at::ScalarType::Double)) { if (!(false)) { ::c10::detail::torchCheckFail( __func__, \"/content/VITON-HD/U-2-Net/Self-Correction-Human-Parsing/modules/src/inplace_abn_cuda.cu\", static_cast<uint32_t>(145), (::c10::detail::torchCheckMsgImpl( \"Expected \" \"false\" \" to be true, but got false.  \" \"(Could this error message be improved?  If so, \" \"please report an enhancement request to PyTorch.)\", \"dtype '\", toString(at::ScalarType::Double), \"' not selected for kernel tag \", at_dispatch_name))); }; } } while (0); using scalar_t [[maybe_unused]] = c10::impl::ScalarTypeToCPPTypeT<at::ScalarType::Double>; return \n",
            "                                                ^\n",
            "\n",
            "/content/VITON-HD/U-2-Net/Self-Correction-Human-Parsing/modules/src/inplace_abn_cuda.cu(197): error: no suitable conversion function from \"const at::DeprecatedTypeProperties\" to \"c10::ScalarType\" exists\n",
            "   ; at::ScalarType _st = ::detail::scalar_type(the_type); ; switch (_st) { case at::ScalarType::Double: { do { if constexpr (!at::should_include_kernel_dtype( at_dispatch_name, at::ScalarType::Double)) { if (!(false)) { ::c10::detail::torchCheckFail( __func__, \"/content/VITON-HD/U-2-Net/Self-Correction-Human-Parsing/modules/src/inplace_abn_cuda.cu\", static_cast<uint32_t>(197), (::c10::detail::torchCheckMsgImpl( \"Expected \" \"false\" \" to be true, but got false.  \" \"(Could this error message be improved?  If so, \" \"please report an enhancement request to PyTorch.)\", \"dtype '\", toString(at::ScalarType::Double), \"' not selected for kernel tag \", at_dispatch_name))); }; } } while (0); using scalar_t [[maybe_unused]] = c10::impl::ScalarTypeToCPPTypeT<at::ScalarType::Double>; return \n",
            "                                                ^\n",
            "\n",
            "/content/VITON-HD/U-2-Net/Self-Correction-Human-Parsing/modules/src/inplace_abn_cuda.cu(259): error: no suitable conversion function from \"const at::DeprecatedTypeProperties\" to \"c10::ScalarType\" exists\n",
            "   ; at::ScalarType _st = ::detail::scalar_type(the_type); ; switch (_st) { case at::ScalarType::Double: { do { if constexpr (!at::should_include_kernel_dtype( at_dispatch_name, at::ScalarType::Double)) { if (!(false)) { ::c10::detail::torchCheckFail( __func__, \"/content/VITON-HD/U-2-Net/Self-Correction-Human-Parsing/modules/src/inplace_abn_cuda.cu\", static_cast<uint32_t>(259), (::c10::detail::torchCheckMsgImpl( \"Expected \" \"false\" \" to be true, but got false.  \" \"(Could this error message be improved?  If so, \" \"please report an enhancement request to PyTorch.)\", \"dtype '\", toString(at::ScalarType::Double), \"' not selected for kernel tag \", at_dispatch_name))); }; } } while (0); using scalar_t [[maybe_unused]] = c10::impl::ScalarTypeToCPPTypeT<at::ScalarType::Double>; return \n",
            "                                                ^\n",
            "\n",
            "/content/VITON-HD/U-2-Net/Self-Correction-Human-Parsing/modules/src/inplace_abn_cuda.cu(302): error: no suitable conversion function from \"const at::DeprecatedTypeProperties\" to \"c10::ScalarType\" exists\n",
            "   ; at::ScalarType _st = ::detail::scalar_type(the_type); ; switch (_st) { case at::ScalarType::Double: { do { if constexpr (!at::should_include_kernel_dtype( at_dispatch_name, at::ScalarType::Double)) { if (!(false)) { ::c10::detail::torchCheckFail( __func__, \"/content/VITON-HD/U-2-Net/Self-Correction-Human-Parsing/modules/src/inplace_abn_cuda.cu\", static_cast<uint32_t>(302), (::c10::detail::torchCheckMsgImpl( \"Expected \" \"false\" \" to be true, but got false.  \" \"(Could this error message be improved?  If so, \" \"please report an enhancement request to PyTorch.)\", \"dtype '\", toString(at::ScalarType::Double), \"' not selected for kernel tag \", at_dispatch_name))); }; } } while (0); using scalar_t [[maybe_unused]] = c10::impl::ScalarTypeToCPPTypeT<at::ScalarType::Double>; return \n",
            "                                                ^\n",
            "\n",
            "/content/VITON-HD/U-2-Net/Self-Correction-Human-Parsing/modules/src/inplace_abn_cuda.cu(330): error: no suitable conversion function from \"const at::DeprecatedTypeProperties\" to \"c10::ScalarType\" exists\n",
            "   ; at::ScalarType _st = ::detail::scalar_type(the_type); ; switch (_st) { case at::ScalarType::Double: { do { if constexpr (!at::should_include_kernel_dtype( at_dispatch_name, at::ScalarType::Double)) { if (!(false)) { ::c10::detail::torchCheckFail( __func__, \"/content/VITON-HD/U-2-Net/Self-Correction-Human-Parsing/modules/src/inplace_abn_cuda.cu\", static_cast<uint32_t>(330), (::c10::detail::torchCheckMsgImpl( \"Expected \" \"false\" \" to be true, but got false.  \" \"(Could this error message be improved?  If so, \" \"please report an enhancement request to PyTorch.)\", \"dtype '\", toString(at::ScalarType::Double), \"' not selected for kernel tag \", at_dispatch_name))); }; } } while (0); using scalar_t [[maybe_unused]] = c10::impl::ScalarTypeToCPPTypeT<at::ScalarType::Double>; return \n",
            "                                                ^\n",
            "\n",
            "6 errors detected in the compilation of \"/content/VITON-HD/U-2-Net/Self-Correction-Human-Parsing/modules/src/inplace_abn_cuda.cu\".\n",
            "[3/4] /usr/local/cuda/bin/nvcc --generate-dependencies-with-compile --dependency-output inplace_abn_cuda_half.cuda.o.d -DTORCH_EXTENSION_NAME=inplace_abn -DTORCH_API_INCLUDE_EXTENSION_H -DPYBIND11_COMPILER_TYPE=\\\"_gcc\\\" -DPYBIND11_STDLIB=\\\"_libstdcpp\\\" -DPYBIND11_BUILD_ABI=\\\"_cxxabi1011\\\" -isystem /usr/local/lib/python3.11/dist-packages/torch/include -isystem /usr/local/lib/python3.11/dist-packages/torch/include/torch/csrc/api/include -isystem /usr/local/lib/python3.11/dist-packages/torch/include/TH -isystem /usr/local/lib/python3.11/dist-packages/torch/include/THC -isystem /usr/local/cuda/include -isystem /usr/include/python3.11 -D_GLIBCXX_USE_CXX11_ABI=0 -D__CUDA_NO_HALF_OPERATORS__ -D__CUDA_NO_HALF_CONVERSIONS__ -D__CUDA_NO_BFLOAT16_CONVERSIONS__ -D__CUDA_NO_HALF2_OPERATORS__ --expt-relaxed-constexpr -gencode=arch=compute_75,code=compute_75 -gencode=arch=compute_75,code=sm_75 --compiler-options '-fPIC' --expt-extended-lambda -std=c++17 -c /content/VITON-HD/U-2-Net/Self-Correction-Human-Parsing/modules/src/inplace_abn_cuda_half.cu -o inplace_abn_cuda_half.cuda.o \n",
            "/content/VITON-HD/U-2-Net/Self-Correction-Human-Parsing/modules/src/inplace_abn_cuda_half.cu: In function ‘std::vector<at::Tensor> mean_var_cuda_h(at::Tensor)’:\n",
            "/content/VITON-HD/U-2-Net/Self-Correction-Human-Parsing/modules/src/inplace_abn_cuda_half.cu:87:134: warning: ‘T* at::Tensor::data() const [with T = c10::Half]’ is deprecated: Tensor.data<T>() is deprecated. Please use Tensor.data_ptr<T>() instead. [-Wdeprecated-declarations]\n",
            "   87 |   mean_var_kernel_h<<<blocks, threads, 0, stream>>>(\n",
            "      |                                                                                                                                      ^ \n",
            "/usr/local/lib/python3.11/dist-packages/torch/include/ATen/core/TensorBody.h:247:1: note: declared here\n",
            "  247 |   T * data() const {\n",
            "      | ^ ~~\n",
            "/content/VITON-HD/U-2-Net/Self-Correction-Human-Parsing/modules/src/inplace_abn_cuda_half.cu:87:157: warning: ‘T* at::Tensor::data() const [with T = float]’ is deprecated: Tensor.data<T>() is deprecated. Please use Tensor.data_ptr<T>() instead. [-Wdeprecated-declarations]\n",
            "   87 |   mean_var_kernel_h<<<blocks, threads, 0, stream>>>(\n",
            "      |                                                                                                                                                             ^ \n",
            "/usr/local/lib/python3.11/dist-packages/torch/include/ATen/core/TensorBody.h:247:1: note: declared here\n",
            "  247 |   T * data() const {\n",
            "      | ^ ~~\n",
            "/content/VITON-HD/U-2-Net/Self-Correction-Human-Parsing/modules/src/inplace_abn_cuda_half.cu:87:178: warning: ‘T* at::Tensor::data() const [with T = float]’ is deprecated: Tensor.data<T>() is deprecated. Please use Tensor.data_ptr<T>() instead. [-Wdeprecated-declarations]\n",
            "   87 |   mean_var_kernel_h<<<blocks, threads, 0, stream>>>(\n",
            "      |                                                                                                                                                                                  ^ \n",
            "/usr/local/lib/python3.11/dist-packages/torch/include/ATen/core/TensorBody.h:247:1: note: declared here\n",
            "  247 |   T * data() const {\n",
            "      | ^ ~~\n",
            "/content/VITON-HD/U-2-Net/Self-Correction-Human-Parsing/modules/src/inplace_abn_cuda_half.cu: In function ‘at::Tensor forward_cuda_h(at::Tensor, at::Tensor, at::Tensor, at::Tensor, at::Tensor, bool, float)’:\n",
            "/content/VITON-HD/U-2-Net/Self-Correction-Human-Parsing/modules/src/inplace_abn_cuda_half.cu:138:133: warning: ‘T* at::Tensor::data() const [with T = c10::Half]’ is deprecated: Tensor.data<T>() is deprecated. Please use Tensor.data_ptr<T>() instead. [-Wdeprecated-declarations]\n",
            "  138 |   forward_kernel_h<<<blocks, threads, 0, stream>>>(\n",
            "      |                                                                                                                                     ^ \n",
            "/usr/local/lib/python3.11/dist-packages/torch/include/ATen/core/TensorBody.h:247:1: note: declared here\n",
            "  247 |   T * data() const {\n",
            "      | ^ ~~\n",
            "/content/VITON-HD/U-2-Net/Self-Correction-Human-Parsing/modules/src/inplace_abn_cuda_half.cu:138:156: warning: ‘T* at::Tensor::data() const [with T = float]’ is deprecated: Tensor.data<T>() is deprecated. Please use Tensor.data_ptr<T>() instead. [-Wdeprecated-declarations]\n",
            "  138 |   forward_kernel_h<<<blocks, threads, 0, stream>>>(\n",
            "      |                                                                                                                                                            ^ \n",
            "/usr/local/lib/python3.11/dist-packages/torch/include/ATen/core/TensorBody.h:247:1: note: declared here\n",
            "  247 |   T * data() const {\n",
            "      | ^ ~~\n",
            "/content/VITON-HD/U-2-Net/Self-Correction-Human-Parsing/modules/src/inplace_abn_cuda_half.cu:138:177: warning: ‘T* at::Tensor::data() const [with T = float]’ is deprecated: Tensor.data<T>() is deprecated. Please use Tensor.data_ptr<T>() instead. [-Wdeprecated-declarations]\n",
            "  138 |   forward_kernel_h<<<blocks, threads, 0, stream>>>(\n",
            "      |                                                                                                                                                                                 ^ \n",
            "/usr/local/lib/python3.11/dist-packages/torch/include/ATen/core/TensorBody.h:247:1: note: declared here\n",
            "  247 |   T * data() const {\n",
            "      | ^ ~~\n",
            "/content/VITON-HD/U-2-Net/Self-Correction-Human-Parsing/modules/src/inplace_abn_cuda_half.cu:138:201: warning: ‘T* at::Tensor::data() const [with T = float]’ is deprecated: Tensor.data<T>() is deprecated. Please use Tensor.data_ptr<T>() instead. [-Wdeprecated-declarations]\n",
            "  138 |   forward_kernel_h<<<blocks, threads, 0, stream>>>(\n",
            "      |                                                                                                                                                                                                         ^ \n",
            "/usr/local/lib/python3.11/dist-packages/torch/include/ATen/core/TensorBody.h:247:1: note: declared here\n",
            "  247 |   T * data() const {\n",
            "      | ^ ~~\n",
            "/content/VITON-HD/U-2-Net/Self-Correction-Human-Parsing/modules/src/inplace_abn_cuda_half.cu:138:223: warning: ‘T* at::Tensor::data() const [with T = float]’ is deprecated: Tensor.data<T>() is deprecated. Please use Tensor.data_ptr<T>() instead. [-Wdeprecated-declarations]\n",
            "  138 |   forward_kernel_h<<<blocks, threads, 0, stream>>>(\n",
            "      |                                                                                                                                                                                                                               ^ \n",
            "/usr/local/lib/python3.11/dist-packages/torch/include/ATen/core/TensorBody.h:247:1: note: declared here\n",
            "  247 |   T * data() const {\n",
            "      | ^ ~~\n",
            "/content/VITON-HD/U-2-Net/Self-Correction-Human-Parsing/modules/src/inplace_abn_cuda_half.cu: In function ‘std::vector<at::Tensor> edz_eydz_cuda_h(at::Tensor, at::Tensor, at::Tensor, at::Tensor, bool, float)’:\n",
            "/content/VITON-HD/U-2-Net/Self-Correction-Human-Parsing/modules/src/inplace_abn_cuda_half.cu:183:134: warning: ‘T* at::Tensor::data() const [with T = c10::Half]’ is deprecated: Tensor.data<T>() is deprecated. Please use Tensor.data_ptr<T>() instead. [-Wdeprecated-declarations]\n",
            "  183 |   edz_eydz_kernel_h<<<blocks, threads, 0, stream>>>(\n",
            "      |                                                                                                                                      ^ \n",
            "/usr/local/lib/python3.11/dist-packages/torch/include/ATen/core/TensorBody.h:247:1: note: declared here\n",
            "  247 |   T * data() const {\n",
            "      | ^ ~~\n",
            "/content/VITON-HD/U-2-Net/Self-Correction-Human-Parsing/modules/src/inplace_abn_cuda_half.cu:183:185: warning: ‘T* at::Tensor::data() const [with T = c10::Half]’ is deprecated: Tensor.data<T>() is deprecated. Please use Tensor.data_ptr<T>() instead. [-Wdeprecated-declarations]\n",
            "  183 |   edz_eydz_kernel_h<<<blocks, threads, 0, stream>>>(\n",
            "      |                                                                                                                                                                                         ^ \n",
            "/usr/local/lib/python3.11/dist-packages/torch/include/ATen/core/TensorBody.h:247:1: note: declared here\n",
            "  247 |   T * data() const {\n",
            "      | ^ ~~\n",
            "/content/VITON-HD/U-2-Net/Self-Correction-Human-Parsing/modules/src/inplace_abn_cuda_half.cu:183:210: warning: ‘T* at::Tensor::data() const [with T = float]’ is deprecated: Tensor.data<T>() is deprecated. Please use Tensor.data_ptr<T>() instead. [-Wdeprecated-declarations]\n",
            "  183 |   edz_eydz_kernel_h<<<blocks, threads, 0, stream>>>(\n",
            "      |                                                                                                                                                                                                                  ^ \n",
            "/usr/local/lib/python3.11/dist-packages/torch/include/ATen/core/TensorBody.h:247:1: note: declared here\n",
            "  247 |   T * data() const {\n",
            "      | ^ ~~\n",
            "/content/VITON-HD/U-2-Net/Self-Correction-Human-Parsing/modules/src/inplace_abn_cuda_half.cu:183:232: warning: ‘T* at::Tensor::data() const [with T = float]’ is deprecated: Tensor.data<T>() is deprecated. Please use Tensor.data_ptr<T>() instead. [-Wdeprecated-declarations]\n",
            "  183 |   edz_eydz_kernel_h<<<blocks, threads, 0, stream>>>(\n",
            "      |                                                                                                                                                                                                                                        ^ \n",
            "/usr/local/lib/python3.11/dist-packages/torch/include/ATen/core/TensorBody.h:247:1: note: declared here\n",
            "  247 |   T * data() const {\n",
            "      | ^ ~~\n",
            "/content/VITON-HD/U-2-Net/Self-Correction-Human-Parsing/modules/src/inplace_abn_cuda_half.cu:183:253: warning: ‘T* at::Tensor::data() const [with T = float]’ is deprecated: Tensor.data<T>() is deprecated. Please use Tensor.data_ptr<T>() instead. [-Wdeprecated-declarations]\n",
            "  183 |   edz_eydz_kernel_h<<<blocks, threads, 0, stream>>>(\n",
            "      |                                                                                                                                                                                                                                                             ^ \n",
            "/usr/local/lib/python3.11/dist-packages/torch/include/ATen/core/TensorBody.h:247:1: note: declared here\n",
            "  247 |   T * data() const {\n",
            "      | ^ ~~\n",
            "/content/VITON-HD/U-2-Net/Self-Correction-Human-Parsing/modules/src/inplace_abn_cuda_half.cu:183:275: warning: ‘T* at::Tensor::data() const [with T = float]’ is deprecated: Tensor.data<T>() is deprecated. Please use Tensor.data_ptr<T>() instead. [-Wdeprecated-declarations]\n",
            "  183 |   edz_eydz_kernel_h<<<blocks, threads, 0, stream>>>(\n",
            "      |                                                                                                                                                                                                                                                                                   ^ \n",
            "/usr/local/lib/python3.11/dist-packages/torch/include/ATen/core/TensorBody.h:247:1: note: declared here\n",
            "  247 |   T * data() const {\n",
            "      | ^ ~~\n",
            "/content/VITON-HD/U-2-Net/Self-Correction-Human-Parsing/modules/src/inplace_abn_cuda_half.cu: In function ‘at::Tensor backward_cuda_h(at::Tensor, at::Tensor, at::Tensor, at::Tensor, at::Tensor, at::Tensor, at::Tensor, bool, float)’:\n",
            "/content/VITON-HD/U-2-Net/Self-Correction-Human-Parsing/modules/src/inplace_abn_cuda_half.cu:238:134: warning: ‘T* at::Tensor::data() const [with T = c10::Half]’ is deprecated: Tensor.data<T>() is deprecated. Please use Tensor.data_ptr<T>() instead. [-Wdeprecated-declarations]\n",
            "  238 |   backward_kernel_h<<<blocks, threads, 0, stream>>>(\n",
            "      |                                                                                                                                      ^ \n",
            "/usr/local/lib/python3.11/dist-packages/torch/include/ATen/core/TensorBody.h:247:1: note: declared here\n",
            "  247 |   T * data() const {\n",
            "      | ^ ~~\n",
            "/content/VITON-HD/U-2-Net/Self-Correction-Human-Parsing/modules/src/inplace_abn_cuda_half.cu:238:185: warning: ‘T* at::Tensor::data() const [with T = c10::Half]’ is deprecated: Tensor.data<T>() is deprecated. Please use Tensor.data_ptr<T>() instead. [-Wdeprecated-declarations]\n",
            "  238 |   backward_kernel_h<<<blocks, threads, 0, stream>>>(\n",
            "      |                                                                                                                                                                                         ^ \n",
            "/usr/local/lib/python3.11/dist-packages/torch/include/ATen/core/TensorBody.h:247:1: note: declared here\n",
            "  247 |   T * data() const {\n",
            "      | ^ ~~\n",
            "/content/VITON-HD/U-2-Net/Self-Correction-Human-Parsing/modules/src/inplace_abn_cuda_half.cu:238:207: warning: ‘T* at::Tensor::data() const [with T = float]’ is deprecated: Tensor.data<T>() is deprecated. Please use Tensor.data_ptr<T>() instead. [-Wdeprecated-declarations]\n",
            "  238 |   backward_kernel_h<<<blocks, threads, 0, stream>>>(\n",
            "      |                                                                                                                                                                                                               ^ \n",
            "/usr/local/lib/python3.11/dist-packages/torch/include/ATen/core/TensorBody.h:247:1: note: declared here\n",
            "  247 |   T * data() const {\n",
            "      | ^ ~~\n",
            "/content/VITON-HD/U-2-Net/Self-Correction-Human-Parsing/modules/src/inplace_abn_cuda_half.cu:238:231: warning: ‘T* at::Tensor::data() const [with T = float]’ is deprecated: Tensor.data<T>() is deprecated. Please use Tensor.data_ptr<T>() instead. [-Wdeprecated-declarations]\n",
            "  238 |   backward_kernel_h<<<blocks, threads, 0, stream>>>(\n",
            "      |                                                                                                                                                                                                                                       ^ \n",
            "/usr/local/lib/python3.11/dist-packages/torch/include/ATen/core/TensorBody.h:247:1: note: declared here\n",
            "  247 |   T * data() const {\n",
            "      | ^ ~~\n",
            "/content/VITON-HD/U-2-Net/Self-Correction-Human-Parsing/modules/src/inplace_abn_cuda_half.cu:238:253: warning: ‘T* at::Tensor::data() const [with T = float]’ is deprecated: Tensor.data<T>() is deprecated. Please use Tensor.data_ptr<T>() instead. [-Wdeprecated-declarations]\n",
            "  238 |   backward_kernel_h<<<blocks, threads, 0, stream>>>(\n",
            "      |                                                                                                                                                                                                                                                             ^ \n",
            "/usr/local/lib/python3.11/dist-packages/torch/include/ATen/core/TensorBody.h:247:1: note: declared here\n",
            "  247 |   T * data() const {\n",
            "      | ^ ~~\n",
            "/content/VITON-HD/U-2-Net/Self-Correction-Human-Parsing/modules/src/inplace_abn_cuda_half.cu:238:274: warning: ‘T* at::Tensor::data() const [with T = float]’ is deprecated: Tensor.data<T>() is deprecated. Please use Tensor.data_ptr<T>() instead. [-Wdeprecated-declarations]\n",
            "  238 |   backward_kernel_h<<<blocks, threads, 0, stream>>>(\n",
            "      |                                                                                                                                                                                                                                                                                  ^ \n",
            "/usr/local/lib/python3.11/dist-packages/torch/include/ATen/core/TensorBody.h:247:1: note: declared here\n",
            "  247 |   T * data() const {\n",
            "      | ^ ~~\n",
            "/content/VITON-HD/U-2-Net/Self-Correction-Human-Parsing/modules/src/inplace_abn_cuda_half.cu:238:296: warning: ‘T* at::Tensor::data() const [with T = float]’ is deprecated: Tensor.data<T>() is deprecated. Please use Tensor.data_ptr<T>() instead. [-Wdeprecated-declarations]\n",
            "  238 |   backward_kernel_h<<<blocks, threads, 0, stream>>>(\n",
            "      |                                                                                                                                                                                                                                                                                                        ^ \n",
            "/usr/local/lib/python3.11/dist-packages/torch/include/ATen/core/TensorBody.h:247:1: note: declared here\n",
            "  247 |   T * data() const {\n",
            "      | ^ ~~\n",
            "/content/VITON-HD/U-2-Net/Self-Correction-Human-Parsing/modules/src/inplace_abn_cuda_half.cu:238:346: warning: ‘T* at::Tensor::data() const [with T = c10::Half]’ is deprecated: Tensor.data<T>() is deprecated. Please use Tensor.data_ptr<T>() instead. [-Wdeprecated-declarations]\n",
            "  238 |   backward_kernel_h<<<blocks, threads, 0, stream>>>(\n",
            "      |                                                                                                                                                                                                                                                                                                                                                          ^ \n",
            "/usr/local/lib/python3.11/dist-packages/torch/include/ATen/core/TensorBody.h:247:1: note: declared here\n",
            "  247 |   T * data() const {\n",
            "      | ^ ~~\n",
            "/content/VITON-HD/U-2-Net/Self-Correction-Human-Parsing/modules/src/inplace_abn_cuda_half.cu: In function ‘void leaky_relu_backward_cuda_h(at::Tensor, at::Tensor, float)’:\n",
            "/content/VITON-HD/U-2-Net/Self-Correction-Human-Parsing/modules/src/inplace_abn_cuda_half.cu:270:143: warning: ‘T* at::Tensor::data() const [with T = c10::Half]’ is deprecated: Tensor.data<T>() is deprecated. Please use Tensor.data_ptr<T>() instead. [-Wdeprecated-declarations]\n",
            "  270 |   leaky_relu_backward_impl_h<<<blocks, threads, 0, stream>>>(\n",
            "      |                                                                                                                                               ^ \n",
            "/usr/local/lib/python3.11/dist-packages/torch/include/ATen/core/TensorBody.h:247:1: note: declared here\n",
            "  247 |   T * data() const {\n",
            "      | ^ ~~\n",
            "/content/VITON-HD/U-2-Net/Self-Correction-Human-Parsing/modules/src/inplace_abn_cuda_half.cu:270:194: warning: ‘T* at::Tensor::data() const [with T = c10::Half]’ is deprecated: Tensor.data<T>() is deprecated. Please use Tensor.data_ptr<T>() instead. [-Wdeprecated-declarations]\n",
            "  270 |   leaky_relu_backward_impl_h<<<blocks, threads, 0, stream>>>(\n",
            "      |                                                                                                                                                                                                  ^ \n",
            "/usr/local/lib/python3.11/dist-packages/torch/include/ATen/core/TensorBody.h:247:1: note: declared here\n",
            "  247 |   T * data() const {\n",
            "      | ^ ~~\n",
            "ninja: build stopped: subcommand failed.\n",
            "\n"
          ]
        }
      ]
    },
    {
      "cell_type": "markdown",
      "source": [
        "# THIS EARLIER NOT WORKED ON PYTHON 3.11 VERSION GIVEN BY COLLAB SO MAKING AN VIRTUAL ENV OF PYTHON 3.8"
      ],
      "metadata": {
        "id": "7VAvSM7LH1B3"
      }
    },
    {
      "cell_type": "markdown",
      "source": [
        "VENV"
      ],
      "metadata": {
        "id": "3nzeG35JIvaX"
      }
    },
    {
      "cell_type": "code",
      "source": [
        "!sudo apt-get update -y\n",
        "!sudo apt-get install python3.8 python3.8-venv python3.8-dev -y"
      ],
      "metadata": {
        "colab": {
          "base_uri": "https://localhost:8080/"
        },
        "id": "WBK3w5GFItRH",
        "outputId": "7a1ad447-1a62-4eb9-defb-d1f6df4aff5f"
      },
      "execution_count": 19,
      "outputs": [
        {
          "output_type": "stream",
          "name": "stdout",
          "text": [
            "\r0% [Working]\r            \rGet:1 https://cloud.r-project.org/bin/linux/ubuntu jammy-cran40/ InRelease [3,632 B]\n",
            "Get:2 https://developer.download.nvidia.com/compute/cuda/repos/ubuntu2204/x86_64  InRelease [1,581 B]\n",
            "Get:3 https://cloud.r-project.org/bin/linux/ubuntu jammy-cran40/ Packages [79.8 kB]\n",
            "Get:4 https://developer.download.nvidia.com/compute/cuda/repos/ubuntu2204/x86_64  Packages [1,798 kB]\n",
            "Get:5 https://r2u.stat.illinois.edu/ubuntu jammy InRelease [6,555 B]\n",
            "Get:6 https://r2u.stat.illinois.edu/ubuntu jammy/main amd64 Packages [2,746 kB]\n",
            "Get:7 https://r2u.stat.illinois.edu/ubuntu jammy/main all Packages [9,045 kB]\n",
            "Hit:8 http://archive.ubuntu.com/ubuntu jammy InRelease\n",
            "Get:9 http://archive.ubuntu.com/ubuntu jammy-updates InRelease [128 kB]\n",
            "Get:10 http://archive.ubuntu.com/ubuntu jammy-backports InRelease [127 kB]\n",
            "Get:11 http://archive.ubuntu.com/ubuntu jammy-updates/main amd64 Packages [3,296 kB]\n",
            "Get:12 http://archive.ubuntu.com/ubuntu jammy-updates/universe amd64 Packages [1,557 kB]\n",
            "Get:13 https://ppa.launchpadcontent.net/deadsnakes/ppa/ubuntu jammy InRelease [18.1 kB]\n",
            "Hit:14 https://ppa.launchpadcontent.net/graphics-drivers/ppa/ubuntu jammy InRelease\n",
            "Hit:15 https://ppa.launchpadcontent.net/ubuntugis/ppa/ubuntu jammy InRelease\n",
            "Get:16 http://security.ubuntu.com/ubuntu jammy-security InRelease [129 kB]\n",
            "Get:17 https://ppa.launchpadcontent.net/deadsnakes/ppa/ubuntu jammy/main amd64 Packages [33.2 kB]\n",
            "Get:18 http://security.ubuntu.com/ubuntu jammy-security/universe amd64 Packages [1,250 kB]\n",
            "Get:19 http://security.ubuntu.com/ubuntu jammy-security/main amd64 Packages [2,986 kB]\n",
            "Fetched 23.2 MB in 6s (3,749 kB/s)\n",
            "Reading package lists... Done\n",
            "W: Skipping acquire of configured file 'main/source/Sources' as repository 'https://r2u.stat.illinois.edu/ubuntu jammy InRelease' does not seem to provide it (sources.list entry misspelt?)\n",
            "Reading package lists... Done\n",
            "Building dependency tree... Done\n",
            "Reading state information... Done\n",
            "The following additional packages will be installed:\n",
            "  libpython3.8 libpython3.8-dev libpython3.8-minimal libpython3.8-stdlib\n",
            "  python3.8-distutils python3.8-lib2to3 python3.8-minimal\n",
            "Suggested packages:\n",
            "  binfmt-support\n",
            "The following NEW packages will be installed:\n",
            "  libpython3.8 libpython3.8-dev libpython3.8-minimal libpython3.8-stdlib\n",
            "  python3.8 python3.8-dev python3.8-distutils python3.8-lib2to3\n",
            "  python3.8-minimal python3.8-venv\n",
            "0 upgraded, 10 newly installed, 0 to remove and 49 not upgraded.\n",
            "Need to get 14.7 MB of archives.\n",
            "After this operation, 48.0 MB of additional disk space will be used.\n",
            "Get:1 https://ppa.launchpadcontent.net/deadsnakes/ppa/ubuntu jammy/main amd64 libpython3.8-minimal amd64 3.8.20-1+jammy1 [796 kB]\n",
            "Get:2 https://ppa.launchpadcontent.net/deadsnakes/ppa/ubuntu jammy/main amd64 python3.8-minimal amd64 3.8.20-1+jammy1 [2,023 kB]\n",
            "Get:3 https://ppa.launchpadcontent.net/deadsnakes/ppa/ubuntu jammy/main amd64 libpython3.8-stdlib amd64 3.8.20-1+jammy1 [1,817 kB]\n",
            "Get:4 https://ppa.launchpadcontent.net/deadsnakes/ppa/ubuntu jammy/main amd64 libpython3.8 amd64 3.8.20-1+jammy1 [1,798 kB]\n",
            "Get:5 https://ppa.launchpadcontent.net/deadsnakes/ppa/ubuntu jammy/main amd64 libpython3.8-dev amd64 3.8.20-1+jammy1 [4,389 kB]\n",
            "Get:6 https://ppa.launchpadcontent.net/deadsnakes/ppa/ubuntu jammy/main amd64 python3.8 amd64 3.8.20-1+jammy1 [440 kB]\n",
            "Get:7 https://ppa.launchpadcontent.net/deadsnakes/ppa/ubuntu jammy/main amd64 python3.8-dev amd64 3.8.20-1+jammy1 [500 kB]\n",
            "Get:8 https://ppa.launchpadcontent.net/deadsnakes/ppa/ubuntu jammy/main amd64 python3.8-lib2to3 all 3.8.20-1+jammy1 [126 kB]\n",
            "Get:9 https://ppa.launchpadcontent.net/deadsnakes/ppa/ubuntu jammy/main amd64 python3.8-distutils all 3.8.20-1+jammy1 [193 kB]\n",
            "Get:10 https://ppa.launchpadcontent.net/deadsnakes/ppa/ubuntu jammy/main amd64 python3.8-venv amd64 3.8.20-1+jammy1 [2,618 kB]\n",
            "Fetched 14.7 MB in 55s (268 kB/s)\n",
            "debconf: unable to initialize frontend: Dialog\n",
            "debconf: (No usable dialog-like program is installed, so the dialog based frontend cannot be used. at /usr/share/perl5/Debconf/FrontEnd/Dialog.pm line 78, <> line 10.)\n",
            "debconf: falling back to frontend: Readline\n",
            "debconf: unable to initialize frontend: Readline\n",
            "debconf: (This frontend requires a controlling tty.)\n",
            "debconf: falling back to frontend: Teletype\n",
            "dpkg-preconfigure: unable to re-open stdin: \n",
            "Selecting previously unselected package libpython3.8-minimal:amd64.\n",
            "(Reading database ... 126319 files and directories currently installed.)\n",
            "Preparing to unpack .../0-libpython3.8-minimal_3.8.20-1+jammy1_amd64.deb ...\n",
            "Unpacking libpython3.8-minimal:amd64 (3.8.20-1+jammy1) ...\n",
            "Selecting previously unselected package python3.8-minimal.\n",
            "Preparing to unpack .../1-python3.8-minimal_3.8.20-1+jammy1_amd64.deb ...\n",
            "Unpacking python3.8-minimal (3.8.20-1+jammy1) ...\n",
            "Selecting previously unselected package libpython3.8-stdlib:amd64.\n",
            "Preparing to unpack .../2-libpython3.8-stdlib_3.8.20-1+jammy1_amd64.deb ...\n",
            "Unpacking libpython3.8-stdlib:amd64 (3.8.20-1+jammy1) ...\n",
            "Selecting previously unselected package libpython3.8:amd64.\n",
            "Preparing to unpack .../3-libpython3.8_3.8.20-1+jammy1_amd64.deb ...\n",
            "Unpacking libpython3.8:amd64 (3.8.20-1+jammy1) ...\n",
            "Selecting previously unselected package libpython3.8-dev:amd64.\n",
            "Preparing to unpack .../4-libpython3.8-dev_3.8.20-1+jammy1_amd64.deb ...\n",
            "Unpacking libpython3.8-dev:amd64 (3.8.20-1+jammy1) ...\n",
            "Selecting previously unselected package python3.8.\n",
            "Preparing to unpack .../5-python3.8_3.8.20-1+jammy1_amd64.deb ...\n",
            "Unpacking python3.8 (3.8.20-1+jammy1) ...\n",
            "Selecting previously unselected package python3.8-dev.\n",
            "Preparing to unpack .../6-python3.8-dev_3.8.20-1+jammy1_amd64.deb ...\n",
            "Unpacking python3.8-dev (3.8.20-1+jammy1) ...\n",
            "Selecting previously unselected package python3.8-lib2to3.\n",
            "Preparing to unpack .../7-python3.8-lib2to3_3.8.20-1+jammy1_all.deb ...\n",
            "Unpacking python3.8-lib2to3 (3.8.20-1+jammy1) ...\n",
            "Selecting previously unselected package python3.8-distutils.\n",
            "Preparing to unpack .../8-python3.8-distutils_3.8.20-1+jammy1_all.deb ...\n",
            "Unpacking python3.8-distutils (3.8.20-1+jammy1) ...\n",
            "Selecting previously unselected package python3.8-venv.\n",
            "Preparing to unpack .../9-python3.8-venv_3.8.20-1+jammy1_amd64.deb ...\n",
            "Unpacking python3.8-venv (3.8.20-1+jammy1) ...\n",
            "Setting up libpython3.8-minimal:amd64 (3.8.20-1+jammy1) ...\n",
            "Setting up python3.8-lib2to3 (3.8.20-1+jammy1) ...\n",
            "Setting up python3.8-minimal (3.8.20-1+jammy1) ...\n",
            "Setting up python3.8-distutils (3.8.20-1+jammy1) ...\n",
            "Setting up libpython3.8-stdlib:amd64 (3.8.20-1+jammy1) ...\n",
            "Setting up python3.8 (3.8.20-1+jammy1) ...\n",
            "Setting up libpython3.8:amd64 (3.8.20-1+jammy1) ...\n",
            "Setting up python3.8-venv (3.8.20-1+jammy1) ...\n",
            "Setting up libpython3.8-dev:amd64 (3.8.20-1+jammy1) ...\n",
            "Setting up python3.8-dev (3.8.20-1+jammy1) ...\n",
            "Processing triggers for man-db (2.10.2-1) ...\n",
            "Processing triggers for mailcap (3.70+nmu1ubuntu1) ...\n"
          ]
        }
      ]
    },
    {
      "cell_type": "code",
      "source": [
        "!python3.8 -m venv torch180env"
      ],
      "metadata": {
        "id": "PuqHYtKlIxUx"
      },
      "execution_count": 20,
      "outputs": []
    },
    {
      "cell_type": "code",
      "source": [
        "!./torch180env/bin/pip install --upgrade pip"
      ],
      "metadata": {
        "colab": {
          "base_uri": "https://localhost:8080/"
        },
        "id": "imf954KaJB5D",
        "outputId": "00cba77f-5f69-477a-aa64-f51967625c7d"
      },
      "execution_count": 21,
      "outputs": [
        {
          "output_type": "stream",
          "name": "stdout",
          "text": [
            "Requirement already satisfied: pip in ./torch180env/lib/python3.8/site-packages (23.0.1)\n",
            "Collecting pip\n",
            "  Downloading pip-25.0.1-py3-none-any.whl (1.8 MB)\n",
            "\u001b[2K     \u001b[90m━━━━━━━━━━━━━━━━━━━━━━━━━━━━━━━━━━━━━━━━\u001b[0m \u001b[32m1.8/1.8 MB\u001b[0m \u001b[31m11.5 MB/s\u001b[0m eta \u001b[36m0:00:00\u001b[0m\n",
            "\u001b[?25hInstalling collected packages: pip\n",
            "  Attempting uninstall: pip\n",
            "    Found existing installation: pip 23.0.1\n",
            "    Uninstalling pip-23.0.1:\n",
            "      Successfully uninstalled pip-23.0.1\n",
            "Successfully installed pip-25.0.1\n"
          ]
        }
      ]
    },
    {
      "cell_type": "code",
      "source": [
        "!./torch180env/bin/pip install opencv-python==4.4.0.46"
      ],
      "metadata": {
        "colab": {
          "base_uri": "https://localhost:8080/"
        },
        "id": "jHe2otYXJ0V7",
        "outputId": "d30c5798-3c80-4595-ed55-9fbade605322"
      },
      "execution_count": 22,
      "outputs": [
        {
          "output_type": "stream",
          "name": "stdout",
          "text": [
            "Collecting opencv-python==4.4.0.46\n",
            "  Downloading opencv_python-4.4.0.46-cp38-cp38-manylinux2014_x86_64.whl.metadata (16 kB)\n",
            "Collecting numpy>=1.17.3 (from opencv-python==4.4.0.46)\n",
            "  Downloading numpy-1.24.4-cp38-cp38-manylinux_2_17_x86_64.manylinux2014_x86_64.whl.metadata (5.6 kB)\n",
            "Downloading opencv_python-4.4.0.46-cp38-cp38-manylinux2014_x86_64.whl (49.5 MB)\n",
            "\u001b[2K   \u001b[90m━━━━━━━━━━━━━━━━━━━━━━━━━━━━━━━━━━━━━━━━\u001b[0m \u001b[32m49.5/49.5 MB\u001b[0m \u001b[31m24.9 MB/s\u001b[0m eta \u001b[36m0:00:00\u001b[0m\n",
            "\u001b[?25hDownloading numpy-1.24.4-cp38-cp38-manylinux_2_17_x86_64.manylinux2014_x86_64.whl (17.3 MB)\n",
            "\u001b[2K   \u001b[90m━━━━━━━━━━━━━━━━━━━━━━━━━━━━━━━━━━━━━━━━\u001b[0m \u001b[32m17.3/17.3 MB\u001b[0m \u001b[31m121.3 MB/s\u001b[0m eta \u001b[36m0:00:00\u001b[0m\n",
            "\u001b[?25hInstalling collected packages: numpy, opencv-python\n",
            "Successfully installed numpy-1.24.4 opencv-python-4.4.0.46\n"
          ]
        }
      ]
    },
    {
      "cell_type": "code",
      "source": [
        "!./torch180env/bin/pip install torch==1.8.0+cu111 torchvision==0.9.0+cu111 -f https://download.pytorch.org/whl/torch_stable.html"
      ],
      "metadata": {
        "colab": {
          "base_uri": "https://localhost:8080/"
        },
        "id": "wD5w5dKENm-d",
        "outputId": "38894420-bc02-4757-9283-20593adc2085"
      },
      "execution_count": 23,
      "outputs": [
        {
          "output_type": "stream",
          "name": "stdout",
          "text": [
            "Looking in links: https://download.pytorch.org/whl/torch_stable.html\n",
            "Collecting torch==1.8.0+cu111\n",
            "  Downloading https://download.pytorch.org/whl/cu111/torch-1.8.0%2Bcu111-cp38-cp38-linux_x86_64.whl (1982.2 MB)\n",
            "\u001b[2K     \u001b[90m━━━━━━━━━━━━━━━━━━━━━━━━━━━━━━━━━━━━━━━━\u001b[0m \u001b[32m2.0/2.0 GB\u001b[0m \u001b[31m12.4 MB/s\u001b[0m eta \u001b[36m0:00:00\u001b[0m\n",
            "\u001b[?25hCollecting torchvision==0.9.0+cu111\n",
            "  Downloading https://download.pytorch.org/whl/cu111/torchvision-0.9.0%2Bcu111-cp38-cp38-linux_x86_64.whl (17.6 MB)\n",
            "\u001b[2K     \u001b[90m━━━━━━━━━━━━━━━━━━━━━━━━━━━━━━━━━━━━━━━\u001b[0m \u001b[32m17.6/17.6 MB\u001b[0m \u001b[31m136.6 MB/s\u001b[0m eta \u001b[36m0:00:00\u001b[0m\n",
            "\u001b[?25hCollecting typing-extensions (from torch==1.8.0+cu111)\n",
            "  Downloading typing_extensions-4.13.2-py3-none-any.whl.metadata (3.0 kB)\n",
            "Requirement already satisfied: numpy in ./torch180env/lib/python3.8/site-packages (from torch==1.8.0+cu111) (1.24.4)\n",
            "Collecting pillow>=4.1.1 (from torchvision==0.9.0+cu111)\n",
            "  Downloading pillow-10.4.0-cp38-cp38-manylinux_2_28_x86_64.whl.metadata (9.2 kB)\n",
            "Downloading pillow-10.4.0-cp38-cp38-manylinux_2_28_x86_64.whl (4.5 MB)\n",
            "\u001b[2K   \u001b[90m━━━━━━━━━━━━━━━━━━━━━━━━━━━━━━━━━━━━━━━━\u001b[0m \u001b[32m4.5/4.5 MB\u001b[0m \u001b[31m77.7 MB/s\u001b[0m eta \u001b[36m0:00:00\u001b[0m\n",
            "\u001b[?25hDownloading typing_extensions-4.13.2-py3-none-any.whl (45 kB)\n",
            "Installing collected packages: typing-extensions, pillow, torch, torchvision\n",
            "Successfully installed pillow-10.4.0 torch-1.8.0+cu111 torchvision-0.9.0+cu111 typing-extensions-4.13.2\n"
          ]
        }
      ]
    },
    {
      "cell_type": "code",
      "source": [
        "!./torch180env/bin/pip install ninja==1.10.2.3"
      ],
      "metadata": {
        "colab": {
          "base_uri": "https://localhost:8080/"
        },
        "id": "FibuK-ySL2oe",
        "outputId": "64a5cb59-49dc-4482-fc5d-75e80b6d1e3a"
      },
      "execution_count": 24,
      "outputs": [
        {
          "output_type": "stream",
          "name": "stdout",
          "text": [
            "Collecting ninja==1.10.2.3\n",
            "  Downloading ninja-1.10.2.3-py2.py3-none-manylinux_2_5_x86_64.manylinux1_x86_64.whl.metadata (5.0 kB)\n",
            "Downloading ninja-1.10.2.3-py2.py3-none-manylinux_2_5_x86_64.manylinux1_x86_64.whl (108 kB)\n",
            "Installing collected packages: ninja\n",
            "Successfully installed ninja-1.10.2.3\n"
          ]
        }
      ]
    },
    {
      "cell_type": "code",
      "source": [
        "%cd /content/VITON-HD/U-2-Net/Self-Correction-Human-Parsing"
      ],
      "metadata": {
        "colab": {
          "base_uri": "https://localhost:8080/"
        },
        "id": "7qFSw_ajMMZ5",
        "outputId": "1c73675e-e29f-4646-8f13-9d727ada250a"
      },
      "execution_count": 25,
      "outputs": [
        {
          "output_type": "stream",
          "name": "stdout",
          "text": [
            "/content/VITON-HD/U-2-Net/Self-Correction-Human-Parsing\n"
          ]
        }
      ]
    },
    {
      "cell_type": "code",
      "source": [
        "!./torch180env/bin/pip install tqdm"
      ],
      "metadata": {
        "colab": {
          "base_uri": "https://localhost:8080/"
        },
        "id": "XZlzwx9zMnBq",
        "outputId": "e9c94ce3-ae4f-4cd4-8bc2-0f68f4aace5e"
      },
      "execution_count": 26,
      "outputs": [
        {
          "output_type": "stream",
          "name": "stdout",
          "text": [
            "Collecting tqdm\n",
            "  Downloading tqdm-4.67.1-py3-none-any.whl.metadata (57 kB)\n",
            "Downloading tqdm-4.67.1-py3-none-any.whl (78 kB)\n",
            "Installing collected packages: tqdm\n",
            "Successfully installed tqdm-4.67.1\n"
          ]
        }
      ]
    },
    {
      "cell_type": "code",
      "source": [
        "!ls /content/VITON-HD/datasets/test/image"
      ],
      "metadata": {
        "colab": {
          "base_uri": "https://localhost:8080/"
        },
        "id": "ZbzOhBX0BvHx",
        "outputId": "6cc76bb8-7dbd-498d-856e-3952ca6898fb"
      },
      "execution_count": 27,
      "outputs": [
        {
          "output_type": "stream",
          "name": "stdout",
          "text": [
            "00891_00.jpg  07445_00.jpg  08909_00.jpg  manual_image2.jpg\n",
            "03615_00.jpg  07573_00.jpg  10549_00.jpg  manual_image.jpg\n"
          ]
        }
      ]
    },
    {
      "cell_type": "code",
      "source": [
        "# import shutil\n",
        "\n",
        "# shutil.rmtree(\"/content/VITON-HD/datasets\")\n",
        "# print(\"✅ /content/VITON-HD/datasets has been removed.\")\n"
      ],
      "metadata": {
        "colab": {
          "base_uri": "https://localhost:8080/"
        },
        "id": "Y9cN9YUrCT3k",
        "outputId": "86b6bd9f-d198-4eb6-cadd-e92d7e10ac34"
      },
      "execution_count": null,
      "outputs": [
        {
          "output_type": "stream",
          "name": "stdout",
          "text": [
            "✅ /content/VITON-HD/datasets has been removed.\n"
          ]
        }
      ]
    },
    {
      "cell_type": "markdown",
      "source": [
        "# BEFORE RUNNING ADD , LIP MODEL IN MODELS DIRECTORY"
      ],
      "metadata": {
        "id": "NTZWwHI3JGwj"
      }
    },
    {
      "cell_type": "code",
      "source": [
        "!./torch180env/bin/python simple_extractor.py \\\n",
        "  --dataset lip \\\n",
        "  --model-restore models/exp-schp-201908261155-lip.pth \\\n",
        "  --input-dir /content/VITON-HD/datasets/test/image \\\n",
        "  --output-dir /content/VITON-HD/datasets/test/image-parse"
      ],
      "metadata": {
        "colab": {
          "base_uri": "https://localhost:8080/"
        },
        "id": "Tr0uXRFgMZSb",
        "outputId": "be7b3aee-3ff2-4281-c20a-abdb926d8c17"
      },
      "execution_count": 28,
      "outputs": [
        {
          "output_type": "stream",
          "name": "stdout",
          "text": [
            "Evaluating total class number 20 with ['Background', 'Hat', 'Hair', 'Glove', 'Sunglasses', 'Upper-clothes', 'Dress', 'Coat', 'Socks', 'Pants', 'Jumpsuits', 'Scarf', 'Skirt', 'Face', 'Left-arm', 'Right-arm', 'Left-leg', 'Right-leg', 'Left-shoe', 'Right-shoe']\n",
            "100% 8/8 [00:04<00:00,  1.68it/s]\n"
          ]
        }
      ]
    },
    {
      "cell_type": "code",
      "source": [
        "import os\n",
        "from PIL import Image\n",
        "\n",
        "# Define input and output directories\n",
        "input_dir = '/content/VITON-HD/datasets/test/image-parse'\n",
        "output_dir = input_dir  # overwrite in place, or change this if you want to save elsewhere\n",
        "\n",
        "# Desired size\n",
        "target_size = (768, 1024)  # (width, height)\n",
        "\n",
        "# Resize loop\n",
        "for filename in os.listdir(input_dir):\n",
        "    if filename.lower().endswith(('.png', '.jpg', '.jpeg')):\n",
        "        img_path = os.path.join(input_dir, filename)\n",
        "        try:\n",
        "            img = Image.open(img_path)\n",
        "            img_resized = img.resize(target_size, Image.BILINEAR)\n",
        "            img_resized.save(img_path)  # overwrite original\n",
        "        except Exception as e:\n",
        "            print(f\"Failed to resize {filename}: {e}\")\n",
        "\n",
        "print(\"✅ All images resized to 768x1024.\")\n"
      ],
      "metadata": {
        "colab": {
          "base_uri": "https://localhost:8080/"
        },
        "id": "XPafTOIdUAp4",
        "outputId": "04b628ff-8fdb-4a73-d1ed-dd33c894ebcc"
      },
      "execution_count": 29,
      "outputs": [
        {
          "output_type": "stream",
          "name": "stdout",
          "text": [
            "✅ All images resized to 768x1024.\n"
          ]
        }
      ]
    },
    {
      "cell_type": "code",
      "source": [
        "from PIL import Image\n",
        "\n",
        "img_path = '/content/VITON-HD/datasets/test/image-parse/manual_image2.png'\n",
        "img = Image.open(img_path)\n",
        "print(\"Image size (width, height):\", img.size)\n"
      ],
      "metadata": {
        "colab": {
          "base_uri": "https://localhost:8080/"
        },
        "id": "BzaxMYALUGX_",
        "outputId": "3b84d5f0-90a3-4dfa-b4c3-4ac1e1b8f654"
      },
      "execution_count": 31,
      "outputs": [
        {
          "output_type": "stream",
          "name": "stdout",
          "text": [
            "Image size (width, height): (768, 1024)\n"
          ]
        }
      ]
    },
    {
      "cell_type": "markdown",
      "source": [
        "# RESIZING FOR MAKING IT COMPATIBLE WITH VITON HD"
      ],
      "metadata": {
        "id": "2SdzW0a0KSTC"
      }
    },
    {
      "cell_type": "markdown",
      "source": [
        "# OPEN-POSE"
      ],
      "metadata": {
        "id": "Rhvvt1uCSMt4"
      }
    },
    {
      "cell_type": "markdown",
      "source": [
        "# EXTRACTED USING OPEN POSE WINDOWS APPLICATION"
      ],
      "metadata": {
        "id": "MStMWeyIboql"
      }
    },
    {
      "cell_type": "markdown",
      "source": [
        "UPLOAD IMG AND JSON FILES"
      ],
      "metadata": {
        "id": "1eLXtkGnMfeL"
      }
    },
    {
      "cell_type": "code",
      "source": [
        "%cd /content/VITON-HD"
      ],
      "metadata": {
        "colab": {
          "base_uri": "https://localhost:8080/"
        },
        "id": "RMIunuApLz5a",
        "outputId": "22d5fb15-7d49-4949-b5e5-4c5d405879ec"
      },
      "execution_count": 32,
      "outputs": [
        {
          "output_type": "stream",
          "name": "stdout",
          "text": [
            "/content/VITON-HD\n"
          ]
        }
      ]
    },
    {
      "cell_type": "code",
      "source": [
        "import json\n",
        "with open('/content/VITON-HD/datasets/test/openpose-json/manual_image2_keypoints.json') as f:\n",
        "    data = json.load(f)\n",
        "print(len(data['people'][0]['pose_keypoints_2d']))  # should be 54\n"
      ],
      "metadata": {
        "colab": {
          "base_uri": "https://localhost:8080/"
        },
        "id": "J0EMU7zbXv_6",
        "outputId": "2ee603ee-452c-4249-c831-ecb2091ef8c8"
      },
      "execution_count": 33,
      "outputs": [
        {
          "output_type": "stream",
          "name": "stdout",
          "text": [
            "54\n"
          ]
        }
      ]
    },
    {
      "cell_type": "code",
      "source": [
        "keypoints = data['people'][0]['pose_keypoints_2d']\n",
        "for i in range(18):\n",
        "    x, y, c = keypoints[i*3:i*3+3]\n",
        "    if c < 0.1 or (x == 0 and y == 0):\n",
        "        print(f\"Keypoint {i} is missing or very low confidence: ({x}, {y}, {c})\")\n"
      ],
      "metadata": {
        "colab": {
          "base_uri": "https://localhost:8080/"
        },
        "id": "aECDjv6wYFnD",
        "outputId": "09b632b6-240d-4c06-ab66-400010ee24bd"
      },
      "execution_count": 34,
      "outputs": [
        {
          "output_type": "stream",
          "name": "stdout",
          "text": [
            "Keypoint 9 is missing or very low confidence: (0, 0, 0)\n",
            "Keypoint 10 is missing or very low confidence: (0, 0, 0)\n",
            "Keypoint 12 is missing or very low confidence: (0, 0, 0)\n",
            "Keypoint 13 is missing or very low confidence: (0, 0, 0)\n"
          ]
        }
      ]
    },
    {
      "cell_type": "markdown",
      "source": [
        "## FIXED MISSING POINTS BY ASSUMPTIONS"
      ],
      "metadata": {
        "id": "jCbods-7KvR7"
      }
    },
    {
      "cell_type": "code",
      "source": [
        "!python test.py --name viton_hd"
      ],
      "metadata": {
        "colab": {
          "base_uri": "https://localhost:8080/"
        },
        "id": "ssH6WSI8LmAq",
        "outputId": "69edb699-959f-4385-86f6-eebe307ad018"
      },
      "execution_count": 37,
      "outputs": [
        {
          "output_type": "stream",
          "name": "stdout",
          "text": [
            "Namespace(name='viton_hd', batch_size=1, workers=1, load_height=1024, load_width=768, shuffle=False, dataset_dir='./datasets/', dataset_mode='test', dataset_list='test_pairs.txt', checkpoint_dir='./checkpoints/', save_dir='./results/', display_freq=1, seg_checkpoint='seg_final.pth', gmm_checkpoint='gmm_final.pth', alias_checkpoint='alias_final.pth', semantic_nc=13, init_type='xavier', init_variance=0.02, grid_size=5, norm_G='spectralaliasinstance', ngf=64, num_upsampling_layers='most')\n",
            "Network [SegGenerator] was created. Total number of parameters: 34.5 million. To see the architecture, do print(network).\n",
            "Network [ALIASGenerator] was created. Total number of parameters: 100.5 million. To see the architecture, do print(network).\n",
            "/usr/local/lib/python3.11/dist-packages/torch/nn/functional.py:5015: UserWarning: Default grid_sample and affine_grid behavior has changed to align_corners=False since 1.3.0. Please specify align_corners=True if the old behavior is desired. See the documentation of grid_sample for details.\n",
            "  warnings.warn(\n",
            "step: 1\n",
            "step: 2\n",
            "step: 3\n",
            "step: 4\n",
            "step: 5\n",
            "step: 6\n",
            "step: 7\n"
          ]
        }
      ]
    },
    {
      "cell_type": "code",
      "source": [
        "import matplotlib.pyplot as plt\n",
        "import matplotlib.image as mpimg\n",
        "\n",
        "img_path = '/content/VITON-HD/results/viton_hd/manual_manual_cloth2.jpg'\n",
        "img = mpimg.imread(img_path)\n",
        "plt.imshow(img)\n",
        "plt.axis('off')  # Optional: hides axes\n",
        "plt.show()"
      ],
      "metadata": {
        "colab": {
          "base_uri": "https://localhost:8080/",
          "height": 406
        },
        "id": "b7L6NxSxbTVu",
        "outputId": "3a6b4ef5-f5ed-47b8-a7f7-e114ff3feb11"
      },
      "execution_count": 38,
      "outputs": [
        {
          "output_type": "display_data",
          "data": {
            "text/plain": [
              "<Figure size 640x480 with 1 Axes>"
            ],
            "image/png": "[encoded data removed]"
          },
          "metadata": {}
        }
      ]
    },
    {
      "cell_type": "markdown",
      "source": [
        "# !! END !!"
      ],
      "metadata": {
        "id": "sjSU0dAEcAUx"
      }
    },
    {
      "cell_type": "code",
      "source": [],
      "metadata": {
        "id": "YeEhdKI5Vw62"
      },
      "execution_count": null,
      "outputs": []
    }
  ]
}